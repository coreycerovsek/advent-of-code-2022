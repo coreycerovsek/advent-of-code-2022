{
 "cells": [
  {
   "cell_type": "code",
   "execution_count": 398,
   "id": "39a15c05-1d97-443a-8b53-060844751e71",
   "metadata": {},
   "outputs": [],
   "source": [
    "import re\n",
    "from collections import Counter, defaultdict, deque\n",
    "from functools import cmp_to_key, lru_cache, reduce\n",
    "from itertools import count, cycle, islice, product, takewhile\n",
    "from json import loads\n",
    "from operator import mul\n",
    "from re import match\n",
    "\n",
    "import numpy as np\n",
    "import portion as P\n",
    "from matplotlib import pyplot as plt\n",
    "from more_itertools import batched, sliding_window\n",
    "from numba import njit\n",
    "from tqdm.auto import tqdm\n",
    "from z3 import Abs, And, Int, Ints, Not, Solver"
   ]
  },
  {
   "cell_type": "markdown",
   "id": "c9abeb38-5212-49eb-b278-25bd26f76485",
   "metadata": {
    "jp-MarkdownHeadingCollapsed": true,
    "tags": []
   },
   "source": [
    "# Day 1"
   ]
  },
  {
   "cell_type": "code",
   "execution_count": 435,
   "id": "bd3c2fd7-2510-4796-acfc-904873e81d9a",
   "metadata": {},
   "outputs": [],
   "source": [
    "calorie_counts = []\n",
    "total = 0\n",
    "with open(\"1.txt\") as f:\n",
    "    for line in f.readlines():\n",
    "        if line == \"\\n\":\n",
    "            calorie_counts.append(total)\n",
    "            total = 0\n",
    "        else:\n",
    "            total += int(line)"
   ]
  },
  {
   "cell_type": "code",
   "execution_count": 436,
   "id": "fde75810-e417-461d-bacd-5e2066d55253",
   "metadata": {},
   "outputs": [
    {
     "data": {
      "text/plain": [
       "71506"
      ]
     },
     "execution_count": 436,
     "metadata": {},
     "output_type": "execute_result"
    }
   ],
   "source": [
    "max(calorie_counts)"
   ]
  },
  {
   "cell_type": "code",
   "execution_count": 437,
   "id": "edd29d60-f94f-4c20-aad6-5a22ab1ffefb",
   "metadata": {},
   "outputs": [
    {
     "data": {
      "text/plain": [
       "209603"
      ]
     },
     "execution_count": 437,
     "metadata": {},
     "output_type": "execute_result"
    }
   ],
   "source": [
    "sum(sorted(calorie_counts)[-3:])"
   ]
  },
  {
   "cell_type": "markdown",
   "id": "dd08bd12-bb8c-46ea-a108-649372573bb4",
   "metadata": {
    "jp-MarkdownHeadingCollapsed": true,
    "tags": []
   },
   "source": [
    "# Day 2"
   ]
  },
  {
   "cell_type": "code",
   "execution_count": 438,
   "id": "dde704fa-f59c-4ff4-989e-4e3590edc2b7",
   "metadata": {},
   "outputs": [
    {
     "data": {
      "text/plain": [
       "14069"
      ]
     },
     "execution_count": 438,
     "metadata": {},
     "output_type": "execute_result"
    }
   ],
   "source": [
    "score = 0\n",
    "with open(\"2.txt\") as f:\n",
    "    for line in f.readlines():\n",
    "        a, bottom = line[0], line[2]\n",
    "        a, bottom = ord(a) - ord(\"A\"), ord(bottom) - ord(\"X\")\n",
    "        if a == bottom:\n",
    "            score += 3 + bottom + 1\n",
    "        elif (bottom - a) % 3 == 1:\n",
    "            score += 6 + bottom + 1\n",
    "        else:\n",
    "            score += bottom + 1\n",
    "score"
   ]
  },
  {
   "cell_type": "code",
   "execution_count": 439,
   "id": "a0f5c1db-1996-49fc-a613-c6e62e24e315",
   "metadata": {},
   "outputs": [
    {
     "data": {
      "text/plain": [
       "12411"
      ]
     },
     "execution_count": 439,
     "metadata": {},
     "output_type": "execute_result"
    }
   ],
   "source": [
    "score = 0\n",
    "with open(\"2.txt\") as f:\n",
    "    for line in f.readlines():\n",
    "        a, right = line[0], line[2]\n",
    "        a, right = ord(a) - ord(\"A\"), ord(right) - ord(\"X\")\n",
    "        if right == 0:\n",
    "            score += (a - 1) % 3 + 1\n",
    "        elif right == 1:\n",
    "            score += 3 + a + 1\n",
    "        else:\n",
    "            score += 6 + (a + 1) % 3 + 1\n",
    "score"
   ]
  },
  {
   "cell_type": "markdown",
   "id": "391f67e5-63bb-4c17-86f2-0e7767c284f3",
   "metadata": {
    "jp-MarkdownHeadingCollapsed": true,
    "tags": []
   },
   "source": [
    "# Day 3"
   ]
  },
  {
   "cell_type": "code",
   "execution_count": 440,
   "id": "8ff8afcb-b409-4346-ac26-39aae8238dc3",
   "metadata": {},
   "outputs": [],
   "source": [
    "def pri(c):\n",
    "    if \"a\" <= c <= \"z\":\n",
    "        return ord(c) - ord(\"a\") + 1\n",
    "    else:\n",
    "        return ord(c) - ord(\"A\") + 27"
   ]
  },
  {
   "cell_type": "code",
   "execution_count": 441,
   "id": "ce162053-932b-49a0-81ad-d0c4632e772f",
   "metadata": {},
   "outputs": [
    {
     "data": {
      "text/plain": [
       "7766"
      ]
     },
     "execution_count": 441,
     "metadata": {},
     "output_type": "execute_result"
    }
   ],
   "source": [
    "total = 0\n",
    "with open(\"3.txt\") as f:\n",
    "    for line in f.readlines():\n",
    "        items = tuple(map(pri, line[:-1]))\n",
    "        half = len(items) // 2\n",
    "        total += next(iter(set(items[:half]) & set(items[half:])))\n",
    "total"
   ]
  },
  {
   "cell_type": "code",
   "execution_count": 442,
   "id": "d2315559-0438-4dd4-b39f-1f51ebd2c221",
   "metadata": {},
   "outputs": [
    {
     "data": {
      "text/plain": [
       "2415"
      ]
     },
     "execution_count": 442,
     "metadata": {},
     "output_type": "execute_result"
    }
   ],
   "source": [
    "total = 0\n",
    "with open(\"3.txt\") as f:\n",
    "    for lines in batched(f.readlines(), 3):\n",
    "        items = tuple(set(map(pri, line[:-1])) for line in lines)\n",
    "        total += next(iter(items[0] & items[1] & items[2]))\n",
    "total"
   ]
  },
  {
   "cell_type": "markdown",
   "id": "72b19f36-d7a9-49ef-8d23-4c66fe53774a",
   "metadata": {
    "jp-MarkdownHeadingCollapsed": true,
    "tags": []
   },
   "source": [
    "# Day 4"
   ]
  },
  {
   "cell_type": "code",
   "execution_count": 443,
   "id": "c5fd2d66-87c2-45da-8784-90f0a83ea2ed",
   "metadata": {},
   "outputs": [
    {
     "data": {
      "text/plain": [
       "448"
      ]
     },
     "execution_count": 443,
     "metadata": {},
     "output_type": "execute_result"
    }
   ],
   "source": [
    "ct = 0\n",
    "with open(\"4.txt\") as f:\n",
    "    for line in f.readlines():\n",
    "        a, bottom, c, d = map(int, match(r\"(\\d+)-(\\d+),(\\d+)-(\\d+)\", line).groups())\n",
    "        if (a <= c and bottom >= d) or (c <= a and d >= bottom):\n",
    "            ct += 1\n",
    "ct"
   ]
  },
  {
   "cell_type": "code",
   "execution_count": 444,
   "id": "93d6a737-65bc-4081-a145-2b342f24dd9c",
   "metadata": {},
   "outputs": [
    {
     "data": {
      "text/plain": [
       "794"
      ]
     },
     "execution_count": 444,
     "metadata": {},
     "output_type": "execute_result"
    }
   ],
   "source": [
    "ct = 0\n",
    "with open(\"4.txt\") as f:\n",
    "    for line in f.readlines():\n",
    "        a, bottom, c, d = map(int, match(r\"(\\d+)-(\\d+),(\\d+)-(\\d+)\", line).groups())\n",
    "        if not (bottom < c or d < a):\n",
    "            ct += 1\n",
    "ct"
   ]
  },
  {
   "cell_type": "markdown",
   "id": "c81dd42d-0b09-4bde-93d6-3df61ccc318a",
   "metadata": {
    "jp-MarkdownHeadingCollapsed": true,
    "tags": []
   },
   "source": [
    "# Day 5"
   ]
  },
  {
   "cell_type": "code",
   "execution_count": 445,
   "id": "9437b733-4b4e-4e55-a6be-dcdc00d824cc",
   "metadata": {},
   "outputs": [
    {
     "data": {
      "text/plain": [
       "'FRDSQRRCD'"
      ]
     },
     "execution_count": 445,
     "metadata": {},
     "output_type": "execute_result"
    }
   ],
   "source": [
    "with open(\"5.txt\") as f:\n",
    "    it = iter(f.readlines())\n",
    "    scans = []\n",
    "    while \"1\" not in (line := next(it)):\n",
    "        scans.append(line[1::4])\n",
    "    stacks = [\n",
    "        [scans[i][n] for i in range(7, -1, -1) if scans[i][n] != \" \"] for n in range(9)\n",
    "    ]\n",
    "    next(it)\n",
    "    for line in it:\n",
    "        n, a, bottom = map(int, match(r\"move (\\d+) from (\\d) to (\\d)\", line).groups())\n",
    "        for _ in range(n):\n",
    "            stacks[bottom - 1].append(stacks[a - 1].pop())\n",
    "\"\".join(stack.pop() for stack in stacks)"
   ]
  },
  {
   "cell_type": "code",
   "execution_count": 446,
   "id": "1f26e5ae-0133-44d9-990a-f66cd378d76f",
   "metadata": {},
   "outputs": [
    {
     "data": {
      "text/plain": [
       "'HRFTQVWNN'"
      ]
     },
     "execution_count": 446,
     "metadata": {},
     "output_type": "execute_result"
    }
   ],
   "source": [
    "with open(\"5.txt\") as f:\n",
    "    it = iter(f.readlines())\n",
    "    scans = []\n",
    "    while \"1\" not in (line := next(it)):\n",
    "        scans.append(line[1::4])\n",
    "    stacks = [\n",
    "        [scans[i][n] for i in range(7, -1, -1) if scans[i][n] != \" \"] for n in range(9)\n",
    "    ]\n",
    "    next(it)\n",
    "    for line in it:\n",
    "        n, a, bottom = map(int, match(r\"move (\\d+) from (\\d) to (\\d)\", line).groups())\n",
    "        temp = []\n",
    "        for _ in range(n):\n",
    "            temp.append(stacks[a - 1].pop())\n",
    "        for _ in range(n):\n",
    "            stacks[bottom - 1].append(temp.pop())\n",
    "\"\".join(stack.pop() for stack in stacks)"
   ]
  },
  {
   "cell_type": "markdown",
   "id": "1e9975f5-6096-4977-9038-17000446e3b8",
   "metadata": {
    "jp-MarkdownHeadingCollapsed": true,
    "tags": []
   },
   "source": [
    "# Day 6"
   ]
  },
  {
   "cell_type": "code",
   "execution_count": 447,
   "id": "5cffe42a-77a1-4777-bc82-c6e02e7a8a6c",
   "metadata": {},
   "outputs": [],
   "source": [
    "with open(\"6.txt\") as f:\n",
    "    line = f.readline()"
   ]
  },
  {
   "cell_type": "code",
   "execution_count": 448,
   "id": "fd29b43b-75de-42a3-ad5e-5ae740d9b43c",
   "metadata": {},
   "outputs": [
    {
     "data": {
      "text/plain": [
       "1794"
      ]
     },
     "execution_count": 448,
     "metadata": {},
     "output_type": "execute_result"
    }
   ],
   "source": [
    "next(i + 4 for i, w in enumerate(sliding_window(line, 4)) if len(set(w)) == 4)"
   ]
  },
  {
   "cell_type": "code",
   "execution_count": 449,
   "id": "4fdb8f18-f988-4fbf-a8c0-0f621e13eae8",
   "metadata": {},
   "outputs": [
    {
     "data": {
      "text/plain": [
       "2851"
      ]
     },
     "execution_count": 449,
     "metadata": {},
     "output_type": "execute_result"
    }
   ],
   "source": [
    "next(i + 14 for i, w in enumerate(sliding_window(line, 14)) if len(set(w)) == 14)"
   ]
  },
  {
   "cell_type": "markdown",
   "id": "e7191b36-e509-4e0b-9fd3-452939561ca4",
   "metadata": {
    "jp-MarkdownHeadingCollapsed": true,
    "tags": []
   },
   "source": [
    "# Day 7"
   ]
  },
  {
   "cell_type": "code",
   "execution_count": 450,
   "id": "1414c0a7-1cc4-4aaf-ab2e-2c958d975502",
   "metadata": {},
   "outputs": [],
   "source": [
    "with open(\"7.txt\") as f:\n",
    "    wd = fs = {\"/\": {}}\n",
    "    for line in f.readlines():\n",
    "        if m := match(r\"\\$ cd (.+)\", line):\n",
    "            wd = wd[m[1]]\n",
    "        elif line == \"$ ls\\n\":\n",
    "            pass\n",
    "        elif m := match(r\"dir (.+)\", line):\n",
    "            dirname = m[1]\n",
    "            if dirname not in wd:\n",
    "                wd[dirname] = {}\n",
    "                wd[dirname][\"..\"] = wd\n",
    "        elif m := match(r\"(\\d+) (.+)\", line):\n",
    "            size, name = int(m[1]), m[2]\n",
    "            wd[name] = size"
   ]
  },
  {
   "cell_type": "code",
   "execution_count": 451,
   "id": "1bedeb80-edb8-4023-8afd-1b7b37a125d1",
   "metadata": {},
   "outputs": [],
   "source": [
    "def dirs(wd=fs):\n",
    "    yield wd\n",
    "    for k, v in wd.items():\n",
    "        if k != \"..\" and type(v) == dict:\n",
    "            yield from dirs(v)"
   ]
  },
  {
   "cell_type": "code",
   "execution_count": 452,
   "id": "2a19c578-359b-4ae8-8fa3-af80e185ce8a",
   "metadata": {},
   "outputs": [],
   "source": [
    "def size(wd):\n",
    "    return sum(size(v) if type(v) == dict else v for k, v in wd.items() if k != \"..\")"
   ]
  },
  {
   "cell_type": "code",
   "execution_count": 453,
   "id": "e127d22f-7063-40d7-a968-db129e943ed1",
   "metadata": {},
   "outputs": [
    {
     "data": {
      "text/plain": [
       "1844187"
      ]
     },
     "execution_count": 453,
     "metadata": {},
     "output_type": "execute_result"
    }
   ],
   "source": [
    "sum(size(d) for d in dirs() if size(d) <= 100_000)"
   ]
  },
  {
   "cell_type": "code",
   "execution_count": 454,
   "id": "84daa20f-5540-4260-82e9-01d65e5814f4",
   "metadata": {},
   "outputs": [
    {
     "data": {
      "text/plain": [
       "4978279"
      ]
     },
     "execution_count": 454,
     "metadata": {},
     "output_type": "execute_result"
    }
   ],
   "source": [
    "min((size(d) for d in dirs() if size(d) >= 30000000 - (70000000 - size(fs))))"
   ]
  },
  {
   "cell_type": "markdown",
   "id": "f820ba77-d3b1-4619-8a88-13cc6475d24b",
   "metadata": {
    "jp-MarkdownHeadingCollapsed": true,
    "tags": []
   },
   "source": [
    "# Day 8"
   ]
  },
  {
   "cell_type": "code",
   "execution_count": 462,
   "id": "1cb8163c-14dd-42f6-a4a3-682162f88c50",
   "metadata": {},
   "outputs": [],
   "source": [
    "with open(\"8.txt\") as f:\n",
    "    lines = [list(map(int, line[:-1])) for line in f.readlines()]\n",
    "    grid = np.array(lines)"
   ]
  },
  {
   "cell_type": "code",
   "execution_count": 466,
   "id": "26f0a6ff-513b-4643-b98f-9f7495d61fb2",
   "metadata": {},
   "outputs": [
    {
     "data": {
      "text/plain": [
       "1693"
      ]
     },
     "execution_count": 466,
     "metadata": {},
     "output_type": "execute_result"
    }
   ],
   "source": [
    "ct = 0\n",
    "for (right, c), v in np.ndenumerate(grid):\n",
    "    try:\n",
    "        if (\n",
    "            v > grid[right, :c].max()\n",
    "            or v > grid[right, c + 1 :].max()\n",
    "            or v > grid[:right, c].max()\n",
    "            or v > grid[right + 1 :, c].max()\n",
    "        ):\n",
    "            ct += 1\n",
    "    except ValueError:  # handle sides\n",
    "        ct += 1\n",
    "ct"
   ]
  },
  {
   "cell_type": "code",
   "execution_count": 467,
   "id": "71ee513b-0c8a-4823-b72f-56fc33ded535",
   "metadata": {},
   "outputs": [],
   "source": [
    "def vd(h, a):\n",
    "    r = sum(1 for _ in takewhile(lambda e: e < h, a))\n",
    "    return r + 1 if r < len(a) and a[r] <= h else r"
   ]
  },
  {
   "cell_type": "code",
   "execution_count": 468,
   "id": "581b3f88-c87c-4da4-b802-268f0544b5b6",
   "metadata": {},
   "outputs": [],
   "source": [
    "def score(r, c, v):\n",
    "    try:\n",
    "        return reduce(\n",
    "            mul,\n",
    "            (\n",
    "                vd(v, a)\n",
    "                for a in (\n",
    "                    grid[r, :c][::-1],\n",
    "                    grid[r, c + 1 :],\n",
    "                    grid[:r, c][::-1],\n",
    "                    grid[r + 1 :, c],\n",
    "                )\n",
    "            ),\n",
    "        )\n",
    "    except ValueError:\n",
    "        return 0"
   ]
  },
  {
   "cell_type": "code",
   "execution_count": 469,
   "id": "1bb420a1-1af1-4b4d-ab47-7d1bd10de379",
   "metadata": {},
   "outputs": [
    {
     "data": {
      "text/plain": [
       "422059"
      ]
     },
     "execution_count": 469,
     "metadata": {},
     "output_type": "execute_result"
    }
   ],
   "source": [
    "max(score(r, c, v) for (r, c), v in np.ndenumerate(grid))"
   ]
  },
  {
   "cell_type": "markdown",
   "id": "296cbd1e-4133-43d1-9e32-e6148d958721",
   "metadata": {
    "jp-MarkdownHeadingCollapsed": true,
    "tags": []
   },
   "source": [
    "# Day 9"
   ]
  },
  {
   "cell_type": "code",
   "execution_count": 453,
   "id": "a88218c0-35b6-49c1-b5af-54b099584f8d",
   "metadata": {},
   "outputs": [
    {
     "data": {
      "text/plain": [
       "6018"
      ]
     },
     "execution_count": 453,
     "metadata": {},
     "output_type": "execute_result"
    }
   ],
   "source": [
    "with open(\"9.txt\") as f:\n",
    "    h = np.array([0, 0])\n",
    "    top = np.array([0, 0])\n",
    "    visited = set((tuple(top),))\n",
    "    for line in f.readlines():\n",
    "        d, n = match(r\"(.) (\\d+)\", line).groups()\n",
    "        d = np.array({\"L\": (-1, 0), \"R\": (1, 0), \"U\": (0, 1), \"D\": (0, -1)}[d])\n",
    "        n = int(n)\n",
    "        for _ in range(n):\n",
    "            h += d\n",
    "            if np.abs(top - h).max() == 2:\n",
    "                dx = 1 if h[0] > top[0] else -1 if h[0] < top[0] else 0\n",
    "                dy = 1 if h[1] > top[1] else -1 if h[1] < top[1] else 0\n",
    "                top += np.array([dx, dy])\n",
    "                visited.add(tuple(top))\n",
    "len(visited)"
   ]
  },
  {
   "cell_type": "code",
   "execution_count": 454,
   "id": "c2ac49e2-e8c5-4b6d-a078-b575b2791b23",
   "metadata": {},
   "outputs": [
    {
     "data": {
      "text/plain": [
       "2619"
      ]
     },
     "execution_count": 454,
     "metadata": {},
     "output_type": "execute_result"
    }
   ],
   "source": [
    "with open(\"9.txt\") as f:\n",
    "    k = [np.array([0, 0]) for _ in range(10)]\n",
    "    visited = set((tuple(k[9]),))\n",
    "    for line in f.readlines():\n",
    "        d, n = match(r\"(.) (\\d+)\", line).groups()\n",
    "        d = np.array({\"L\": (-1, 0), \"R\": (1, 0), \"U\": (0, 1), \"D\": (0, -1)}[d])\n",
    "        n = int(n)\n",
    "        for _ in range(n):\n",
    "            k[0] += d\n",
    "            for i in range(1, 10):\n",
    "                h, top = k[i - 1], k[i]\n",
    "                if np.abs(top - h).max() == 2:\n",
    "                    dx = 1 if h[0] > top[0] else -1 if h[0] < top[0] else 0\n",
    "                    dy = 1 if h[1] > top[1] else -1 if h[1] < top[1] else 0\n",
    "                    top += np.array([dx, dy])\n",
    "            visited.add(tuple(k[9]))\n",
    "len(visited)"
   ]
  },
  {
   "cell_type": "markdown",
   "id": "d23c7f03-e321-4f68-805b-2f4ea058c2e8",
   "metadata": {
    "jp-MarkdownHeadingCollapsed": true,
    "tags": []
   },
   "source": [
    "# Day 10"
   ]
  },
  {
   "cell_type": "code",
   "execution_count": 472,
   "id": "8c42b33e-5a6b-46cb-bf70-2b11ff285f23",
   "metadata": {},
   "outputs": [],
   "source": [
    "with open(\"10.txt\") as f:\n",
    "    xs = [None]\n",
    "    x = 1\n",
    "    for line in f.readlines():\n",
    "        if m := match(r\"addx (-?\\d+)\", line):\n",
    "            xs.extend((x, x))\n",
    "            x += int(m[1])\n",
    "        elif line == \"noop\\n\":\n",
    "            xs.append(x)"
   ]
  },
  {
   "cell_type": "code",
   "execution_count": 473,
   "id": "b7fd239e-bda1-4f60-a158-804a1bd16fbb",
   "metadata": {},
   "outputs": [
    {
     "data": {
      "text/plain": [
       "17380"
      ]
     },
     "execution_count": 473,
     "metadata": {},
     "output_type": "execute_result"
    }
   ],
   "source": [
    "sum(xs[i] * i for i in (20, 60, 100, 140, 180, 220))"
   ]
  },
  {
   "cell_type": "code",
   "execution_count": 474,
   "id": "9873c5d3-b0a3-41fc-aacb-c0fd411ed298",
   "metadata": {},
   "outputs": [
    {
     "name": "stdout",
     "output_type": "stream",
     "text": [
      "####..##...##..#..#.####.###..####..##..\n",
      "#....#..#.#..#.#..#....#.#..#.#....#..#.\n",
      "###..#....#....#..#...#..#..#.###..#....\n",
      "#....#.##.#....#..#..#...###..#....#....\n",
      "#....#..#.#..#.#..#.#....#.#..#....#..#.\n",
      "#.....###..##...##..####.#..#.####..##..\n"
     ]
    }
   ],
   "source": [
    "for right in range(6):\n",
    "    for c in range(40):\n",
    "        if abs(c - xs[right * 40 + c + 1]) <= 1:\n",
    "            print(\"#\", end=\"\")\n",
    "        else:\n",
    "            print(\".\", end=\"\")\n",
    "    print()"
   ]
  },
  {
   "cell_type": "markdown",
   "id": "2c211978-7b95-4fee-8c7d-cb7c9cf2609a",
   "metadata": {
    "jp-MarkdownHeadingCollapsed": true,
    "tags": []
   },
   "source": [
    "# Day 11"
   ]
  },
  {
   "cell_type": "code",
   "execution_count": 475,
   "id": "59c29e1f-d699-4520-8915-460067ea388b",
   "metadata": {},
   "outputs": [],
   "source": [
    "with open(\"11.txt\") as f:\n",
    "    items = []\n",
    "    acts = []\n",
    "    factors = []\n",
    "    trues = []\n",
    "    falses = []\n",
    "    for i in range(8):\n",
    "        f.readline()\n",
    "        line = f.readline()\n",
    "        s = match(r\" +Starting items: (.+)\", line)[1]\n",
    "        items.append(list(map(int, s.split(\", \"))))\n",
    "        line = f.readline()\n",
    "        act = match(r\" +Operation: new = (.+)\", line)[1]\n",
    "        act = eval(f\"lambda old: {act}\")\n",
    "        acts.append(act)\n",
    "        line = f.readline()\n",
    "        factors.append(int(match(r\" +Test: divisible by (\\d+)\", line)[1]))\n",
    "        line = f.readline()\n",
    "        trues.append(int(match(r\" +If true: throw to monkey (\\d)\", line)[1]))\n",
    "        line = f.readline()\n",
    "        falses.append(int(match(r\" +If false: throw to monkey (\\d)\", line)[1]))\n",
    "        f.readline()"
   ]
  },
  {
   "cell_type": "code",
   "execution_count": 476,
   "id": "e3ed0c17-4e18-4513-8ac8-b33d687e1be2",
   "metadata": {},
   "outputs": [],
   "source": [
    "counts = [0] * 8\n",
    "for _ in range(20):\n",
    "    for i in range(8):\n",
    "        for j in items[i]:\n",
    "            counts[i] += 1\n",
    "            new = acts[i](j)\n",
    "            new //= 3\n",
    "            if new % factors[i] == 0:\n",
    "                items[trues[i]].append(new)\n",
    "            else:\n",
    "                items[falses[i]].append(new)\n",
    "        items[i] = []"
   ]
  },
  {
   "cell_type": "code",
   "execution_count": 477,
   "id": "7a1fba19-0c18-46bc-af07-2add5867a885",
   "metadata": {},
   "outputs": [
    {
     "data": {
      "text/plain": [
       "57838"
      ]
     },
     "execution_count": 477,
     "metadata": {},
     "output_type": "execute_result"
    }
   ],
   "source": [
    "a, bottom = sorted(counts)[-2:]\n",
    "a * bottom"
   ]
  },
  {
   "cell_type": "code",
   "execution_count": 478,
   "id": "4c95d47b-7d3b-4013-a0a5-98243c273e8c",
   "metadata": {},
   "outputs": [],
   "source": [
    "with open(\"11.txt\") as f:\n",
    "    items = []\n",
    "    acts = []\n",
    "    factors = []\n",
    "    trues = []\n",
    "    falses = []\n",
    "    for i in range(8):\n",
    "        f.readline()\n",
    "        line = f.readline()\n",
    "        s = match(r\" +Starting items: (.+)\", line)[1]\n",
    "        items.append(list(map(int, s.split(\", \"))))\n",
    "        line = f.readline()\n",
    "        act = match(r\" +Operation: new = (.+)\", line)[1]\n",
    "        act = eval(f\"lambda old: {act}\")\n",
    "        acts.append(act)\n",
    "        line = f.readline()\n",
    "        factors.append(int(match(r\" +Test: divisible by (\\d+)\", line)[1]))\n",
    "        line = f.readline()\n",
    "        trues.append(int(match(r\" +If true: throw to monkey (\\d)\", line)[1]))\n",
    "        line = f.readline()\n",
    "        falses.append(int(match(r\" +If false: throw to monkey (\\d)\", line)[1]))\n",
    "        f.readline()\n",
    "    items = list(list(list(y % f for f in factors) for y in x) for x in items)"
   ]
  },
  {
   "cell_type": "code",
   "execution_count": 479,
   "id": "b2093535-d004-4d2d-a9d2-9ee35c6c0320",
   "metadata": {},
   "outputs": [],
   "source": [
    "counts = [0] * 8\n",
    "for _ in range(10_000):\n",
    "    for i in range(8):\n",
    "        for j in items[i]:\n",
    "            counts[i] += 1\n",
    "            new = [acts[i](x) % f for x, f in zip(j, factors)]\n",
    "            if new[i] == 0:\n",
    "                items[trues[i]].append(new)\n",
    "            else:\n",
    "                items[falses[i]].append(new)\n",
    "        items[i].clear()"
   ]
  },
  {
   "cell_type": "code",
   "execution_count": 480,
   "id": "8e3a2301-469e-4aed-943f-3322c929b29b",
   "metadata": {},
   "outputs": [
    {
     "data": {
      "text/plain": [
       "15050382231"
      ]
     },
     "execution_count": 480,
     "metadata": {},
     "output_type": "execute_result"
    }
   ],
   "source": [
    "a, bottom = sorted(counts)[-2:]\n",
    "a * bottom"
   ]
  },
  {
   "cell_type": "markdown",
   "id": "3c97961d-f3a8-45a2-a972-72e56ba43573",
   "metadata": {
    "jp-MarkdownHeadingCollapsed": true,
    "tags": []
   },
   "source": [
    "# Day 12"
   ]
  },
  {
   "cell_type": "code",
   "execution_count": 445,
   "id": "6dcae910-755b-4702-9574-2a3f9cbb282e",
   "metadata": {},
   "outputs": [],
   "source": [
    "with open(\"12.txt\") as f:\n",
    "    grid = [[ord(c) - ord(\"a\") for c in line[:-1]] for line in f.readlines()]"
   ]
  },
  {
   "cell_type": "code",
   "execution_count": 446,
   "id": "56726ad0-5a0b-49b4-a828-6adc0f047741",
   "metadata": {},
   "outputs": [],
   "source": [
    "grid = np.array(grid)\n",
    "h, w = grid.shape\n",
    "start = tuple(np.argwhere(grid == ord(\"S\") - ord(\"a\"))[0])\n",
    "end = tuple(np.argwhere(grid == ord(\"E\") - ord(\"a\"))[0])\n",
    "grid[start], grid[end] = 0, 25"
   ]
  },
  {
   "cell_type": "code",
   "execution_count": 449,
   "id": "dbc6ee2c-d06c-47db-9f61-184406761881",
   "metadata": {},
   "outputs": [],
   "source": [
    "def search():\n",
    "    distances = np.zeros_like(grid)\n",
    "    distances.fill(h * w)\n",
    "    front = [start]\n",
    "    for distance in count(1):\n",
    "        new_front = []\n",
    "        for r, c in front:\n",
    "            for dr, dc in ((0, 1), (0, -1), (1, 0), (-1, 0)):\n",
    "                new = (r + dr, c + dc)\n",
    "                if not (0 <= new[0] < h and 0 <= new[1] < w):\n",
    "                    continue\n",
    "                if grid[new] <= 1 + grid[r, c] and distance < distances[new]:\n",
    "                    new_front.append(new)\n",
    "                    distances[new] = distance\n",
    "                    if new == end:\n",
    "                        return distance\n",
    "        front = new_front"
   ]
  },
  {
   "cell_type": "code",
   "execution_count": 450,
   "id": "c1a4f675-528a-4493-be37-b2bf2b022ba8",
   "metadata": {},
   "outputs": [
    {
     "data": {
      "text/plain": [
       "447"
      ]
     },
     "execution_count": 450,
     "metadata": {},
     "output_type": "execute_result"
    }
   ],
   "source": [
    "search()"
   ]
  },
  {
   "cell_type": "code",
   "execution_count": 451,
   "id": "0f831185-20b5-444b-9605-0b331a5f3525",
   "metadata": {},
   "outputs": [],
   "source": [
    "def search():\n",
    "    distances = np.zeros_like(grid)\n",
    "    distances.fill(h * w)\n",
    "    front = [end]\n",
    "    for distance in count(1):\n",
    "        new_front = []\n",
    "        for r, c in front:\n",
    "            for dr, dc in ((0, 1), (0, -1), (1, 0), (-1, 0)):\n",
    "                new = (r + dr, c + dc)\n",
    "                if not (0 <= new[0] < h and 0 <= new[1] < w):\n",
    "                    continue\n",
    "                if grid[new] >= grid[r, c] - 1 and distance < distances[new]:\n",
    "                    new_front.append(new)\n",
    "                    distances[new] = distance\n",
    "                    if grid[new] == 0:\n",
    "                        return distance\n",
    "        front = new_front"
   ]
  },
  {
   "cell_type": "code",
   "execution_count": 452,
   "id": "21ae0b38-0665-46af-b912-3bd14f8e0612",
   "metadata": {},
   "outputs": [
    {
     "data": {
      "text/plain": [
       "446"
      ]
     },
     "execution_count": 452,
     "metadata": {},
     "output_type": "execute_result"
    }
   ],
   "source": [
    "search()"
   ]
  },
  {
   "cell_type": "markdown",
   "id": "11b5442b-2d5b-4df8-ae0c-ff8a1de39006",
   "metadata": {
    "jp-MarkdownHeadingCollapsed": true,
    "tags": []
   },
   "source": [
    "# Day 13"
   ]
  },
  {
   "cell_type": "code",
   "execution_count": 441,
   "id": "19ced041-bea5-4b1e-bd00-41c701d94edf",
   "metadata": {},
   "outputs": [],
   "source": [
    "def cmp(left, right):\n",
    "    if type(left) == int and type(right) == int:\n",
    "        return -1 if left < right else 0 if left == right else 1\n",
    "    if type(left) == list and type(right) == list:\n",
    "        for a, b in zip(left, right):\n",
    "            if (r := cmp(a, b)) != 0:\n",
    "                return r\n",
    "        return -1 if len(left) < len(right) else 0 if len(left) == len(right) else 1\n",
    "    return cmp([left], right) if type(left) == int else cmp(left, [right])"
   ]
  },
  {
   "cell_type": "code",
   "execution_count": 442,
   "id": "13a8d8f3-72bd-4d78-9400-dc53327b089b",
   "metadata": {},
   "outputs": [
    {
     "data": {
      "text/plain": [
       "6272"
      ]
     },
     "execution_count": 442,
     "metadata": {},
     "output_type": "execute_result"
    }
   ],
   "source": [
    "with open(\"13.txt\") as f:\n",
    "    right = 0\n",
    "    for i, (a, bottom, _) in enumerate(batched(f.readlines() + [\"\\n\"], 3)):\n",
    "        right += i + 1 if cmp(loads(a), loads(bottom)) == -1 else 0\n",
    "right"
   ]
  },
  {
   "cell_type": "code",
   "execution_count": 443,
   "id": "4cf711d4-4f38-43d8-b62f-bb5af4a63f6d",
   "metadata": {},
   "outputs": [],
   "source": [
    "with open(\"13.txt\") as f:\n",
    "    packets = []\n",
    "    for i, (a, bottom, _) in enumerate(batched(f.readlines() + [\"\\n\"], 3)):\n",
    "        packets.extend((loads(a), loads(bottom)))"
   ]
  },
  {
   "cell_type": "code",
   "execution_count": 444,
   "id": "8fa4f367-4523-42fe-bbc7-6fc4e7eb767b",
   "metadata": {},
   "outputs": [
    {
     "data": {
      "text/plain": [
       "22288"
      ]
     },
     "execution_count": 444,
     "metadata": {},
     "output_type": "execute_result"
    }
   ],
   "source": [
    "packets.extend(([[2]], [[6]]))\n",
    "packets.sort(key=cmp_to_key(cmp))\n",
    "(packets.index([[2]]) + 1) * (packets.index([[6]]) + 1)"
   ]
  },
  {
   "cell_type": "markdown",
   "id": "12ea2088-e128-494a-a735-41bff42090de",
   "metadata": {
    "jp-MarkdownHeadingCollapsed": true,
    "tags": []
   },
   "source": [
    "# Day 14"
   ]
  },
  {
   "cell_type": "code",
   "execution_count": 422,
   "id": "114d2870-2a69-4188-a19e-4fc9363acec5",
   "metadata": {},
   "outputs": [],
   "source": [
    "with open(\"14.txt\") as f:\n",
    "    polygons = []\n",
    "    for line in f.readlines():\n",
    "        polygons.append([[int(s) for s in s.split(\",\")] for s in line.split(\" -> \")])"
   ]
  },
  {
   "cell_type": "code",
   "execution_count": 423,
   "id": "ccc89273-a930-4288-b9b2-cc744c94f563",
   "metadata": {},
   "outputs": [],
   "source": [
    "xmin, xmax = (f(pt[0] for p in polygons for pt in p) for f in (min, max))\n",
    "ymin, ymax = (f(pt[1] for p in polygons for pt in p) for f in (min, max))\n",
    "cave = np.zeros((ymax + 1, xmax - xmin + 2), dtype=np.bool_)"
   ]
  },
  {
   "cell_type": "code",
   "execution_count": 424,
   "id": "7547b3a7-0e3c-4ba4-afe1-13937f311201",
   "metadata": {},
   "outputs": [],
   "source": [
    "for p in polygons:\n",
    "    for (ax, ay), (bx, by) in list(sliding_window(p, 2)):\n",
    "        if ax == bx:\n",
    "            cave[min(ay, by) : max(ay, by) + 1, ax - xmin] = True\n",
    "        else:\n",
    "            cave[ay, min(ax, bx) - xmin : max(ax, bx) - xmin + 1] = True"
   ]
  },
  {
   "cell_type": "code",
   "execution_count": 425,
   "id": "7ad9f2be-97a7-4cf4-a852-723c76025d81",
   "metadata": {},
   "outputs": [
    {
     "data": {
      "image/png": "[encoded data removed]",
      "text/plain": [
       "<Figure size 640x480 with 1 Axes>"
      ]
     },
     "metadata": {},
     "output_type": "display_data"
    }
   ],
   "source": [
    "plt.imshow(cave, interpolation=\"nearest\")\n",
    "plt.show()"
   ]
  },
  {
   "cell_type": "code",
   "execution_count": 426,
   "id": "3a7f95d2-62bb-41ca-bc83-41177c0ff8c0",
   "metadata": {},
   "outputs": [],
   "source": [
    "for grains in count():\n",
    "    x, y = 500 - xmin, 0\n",
    "    while y < ymax:\n",
    "        try:\n",
    "            possible = ((x, y + 1), (x - 1, y + 1), (x + 1, y + 1))\n",
    "            x, y = next((a, b) for a, b in possible if not cave[b, a])\n",
    "        except StopIteration:\n",
    "            cave[y, x] = True\n",
    "            break\n",
    "    if y == ymax:\n",
    "        break"
   ]
  },
  {
   "cell_type": "code",
   "execution_count": 428,
   "id": "6fcb70b8-5fac-4976-a0a3-fb8f4f429e11",
   "metadata": {},
   "outputs": [
    {
     "data": {
      "text/plain": [
       "696"
      ]
     },
     "execution_count": 428,
     "metadata": {},
     "output_type": "execute_result"
    }
   ],
   "source": [
    "grains"
   ]
  },
  {
   "cell_type": "code",
   "execution_count": 429,
   "id": "a82110fe-81ec-4850-8da2-9d084a834c20",
   "metadata": {},
   "outputs": [
    {
     "data": {
      "image/png": "[encoded data removed]",
      "text/plain": [
       "<Figure size 640x480 with 1 Axes>"
      ]
     },
     "metadata": {},
     "output_type": "display_data"
    }
   ],
   "source": [
    "plt.imshow(cave, interpolation=\"nearest\")\n",
    "plt.show()"
   ]
  },
  {
   "cell_type": "code",
   "execution_count": 430,
   "id": "176700c1-3106-4064-b990-637de270c4b2",
   "metadata": {},
   "outputs": [],
   "source": [
    "with open(\"14.txt\") as f:\n",
    "    polygons = []\n",
    "    for line in f.readlines():\n",
    "        polygons.append([[int(s) for s in s.split(\",\")] for s in line.split(\" -> \")])"
   ]
  },
  {
   "cell_type": "code",
   "execution_count": 431,
   "id": "ec56099d-1890-472c-b7ba-75dd16f5d1f4",
   "metadata": {},
   "outputs": [],
   "source": [
    "xmin, xmax = (f(pt[0] for p in polygons for pt in p) for f in (min, max))\n",
    "ymin, ymax = (f(pt[1] for p in polygons for pt in p) for f in (min, max))\n",
    "ymax += 2\n",
    "xmin, xmax = 500 - ymax - 10, 500 + ymax + 10\n",
    "cave = np.zeros((ymax + 1, xmax - xmin + 2), dtype=np.bool_)"
   ]
  },
  {
   "cell_type": "code",
   "execution_count": 432,
   "id": "6136463c-c287-46da-949f-df83c65ca2c7",
   "metadata": {},
   "outputs": [],
   "source": [
    "for p in polygons:\n",
    "    for (ax, ay), (bx, by) in list(sliding_window(p, 2)):\n",
    "        if ax == bx:\n",
    "            cave[min(ay, by) : max(ay, by) + 1, ax - xmin] = True\n",
    "        else:\n",
    "            cave[ay, min(ax, bx) - xmin : max(ax, bx) - xmin + 1] = True"
   ]
  },
  {
   "cell_type": "code",
   "execution_count": 433,
   "id": "76ab1f8d-65de-40ce-b85e-eadf7d2c79fe",
   "metadata": {},
   "outputs": [],
   "source": [
    "cave[ymax, :] = True"
   ]
  },
  {
   "cell_type": "code",
   "execution_count": 434,
   "id": "bedf2a43-e287-488a-955d-b13e6ba766e9",
   "metadata": {},
   "outputs": [
    {
     "data": {
      "image/png": "[encoded data removed]",
      "text/plain": [
       "<Figure size 640x480 with 1 Axes>"
      ]
     },
     "metadata": {},
     "output_type": "display_data"
    }
   ],
   "source": [
    "plt.imshow(cave, interpolation=\"nearest\")\n",
    "plt.show()"
   ]
  },
  {
   "cell_type": "code",
   "execution_count": 435,
   "id": "3eb61d02-93d4-42d2-8f99-d81353671ee7",
   "metadata": {},
   "outputs": [],
   "source": [
    "for grains in count(1):\n",
    "    x, y = 500 - xmin, 0\n",
    "    while True:\n",
    "        try:\n",
    "            possible = ((x, y + 1), (x - 1, y + 1), (x + 1, y + 1))\n",
    "            x, y = next((a, b) for a, b in possible if not cave[b, a])\n",
    "        except StopIteration:\n",
    "            cave[y, x] = True\n",
    "            break\n",
    "    if y == 0:\n",
    "        break"
   ]
  },
  {
   "cell_type": "code",
   "execution_count": 436,
   "id": "659915b8-385c-492b-8eac-789831a3660e",
   "metadata": {},
   "outputs": [
    {
     "data": {
      "text/plain": [
       "23610"
      ]
     },
     "execution_count": 436,
     "metadata": {},
     "output_type": "execute_result"
    }
   ],
   "source": [
    "grains"
   ]
  },
  {
   "cell_type": "code",
   "execution_count": 437,
   "id": "fcc73a84-007c-4507-9943-b05ec0428365",
   "metadata": {},
   "outputs": [
    {
     "data": {
      "image/png": "[encoded data removed]",
      "text/plain": [
       "<Figure size 640x480 with 1 Axes>"
      ]
     },
     "metadata": {},
     "output_type": "display_data"
    }
   ],
   "source": [
    "plt.imshow(cave, interpolation=\"nearest\")\n",
    "plt.show()"
   ]
  },
  {
   "cell_type": "markdown",
   "id": "27c6a81c-9a33-4e04-92b1-dfc02e4f1c7e",
   "metadata": {
    "jp-MarkdownHeadingCollapsed": true,
    "tags": []
   },
   "source": [
    "# Day 15"
   ]
  },
  {
   "cell_type": "code",
   "execution_count": 399,
   "id": "4b8b361a-2ae9-47db-afa5-6035ea4831c0",
   "metadata": {},
   "outputs": [],
   "source": [
    "with open(\"15.txt\") as f:\n",
    "    covered = P.empty()\n",
    "    beacons = set()\n",
    "    for line in f.readlines():\n",
    "        pattern = \"Sensor at x=(.+), y=(.+): closest beacon is at x=(.+), y=(.+)\"\n",
    "        sx, sy, bx, by = map(int, match(pattern, line).groups())\n",
    "        if by == 2000000:\n",
    "            beacons.add(bx)\n",
    "        md = abs(sx - bx) + abs(sy - by)\n",
    "        if (d := abs(sy - 2000000)) <= md:\n",
    "            xmin, xmax = sx - md + d, sx + md - d\n",
    "            covered |= P.closed(xmin, xmax)"
   ]
  },
  {
   "cell_type": "code",
   "execution_count": 400,
   "id": "2e080d86-0e92-4484-8e44-efca9a84b0f2",
   "metadata": {},
   "outputs": [
    {
     "data": {
      "text/plain": [
       "[-792660,4373417]"
      ]
     },
     "execution_count": 400,
     "metadata": {},
     "output_type": "execute_result"
    }
   ],
   "source": [
    "covered"
   ]
  },
  {
   "cell_type": "code",
   "execution_count": 401,
   "id": "44729372-f603-4e25-8cc1-c9bc58b90a7e",
   "metadata": {},
   "outputs": [
    {
     "data": {
      "text/plain": [
       "5166077"
      ]
     },
     "execution_count": 401,
     "metadata": {},
     "output_type": "execute_result"
    }
   ],
   "source": [
    "covered.upper - covered.lower + 1 - len(beacons)"
   ]
  },
  {
   "cell_type": "code",
   "execution_count": 405,
   "id": "462894b0-a904-4c74-b424-2772d201e1d0",
   "metadata": {},
   "outputs": [],
   "source": [
    "solver = Solver()\n",
    "x, y = Ints(\"x y\")\n",
    "solver.add(0 <= x, x <= 4_000_000, 0 <= y, y <= 4_000_000)"
   ]
  },
  {
   "cell_type": "code",
   "execution_count": 406,
   "id": "8d64876a-e16c-4ec8-936f-af87a8d5a5eb",
   "metadata": {},
   "outputs": [],
   "source": [
    "with open(\"15.txt\") as f:\n",
    "    for line in f.readlines():\n",
    "        pattern = \"Sensor at x=(.+), y=(.+): closest beacon is at x=(.+), y=(.+)\"\n",
    "        sx, sy, bx, by = map(int, match(pattern, line).groups())\n",
    "        if 0 <= bx <= 4_000_000 and 0 <= by <= 4_000_000:\n",
    "            solver.add(Not(And(x == bx, y == by)))\n",
    "        md = abs(sx - bx) + abs(sy - by)\n",
    "        solver.add(Abs(x - sx) + Abs(y - sy) > md)"
   ]
  },
  {
   "cell_type": "code",
   "execution_count": 407,
   "id": "27eb4324-b052-4af3-8e54-d1d096464b76",
   "metadata": {},
   "outputs": [
    {
     "data": {
      "text/plain": [
       "13071206703981"
      ]
     },
     "execution_count": 407,
     "metadata": {},
     "output_type": "execute_result"
    }
   ],
   "source": [
    "solver.check()\n",
    "x, y = [solver.model().eval(v) for v in (x, y)]\n",
    "x.as_long() * 4_000_000 + y.as_long()"
   ]
  },
  {
   "cell_type": "markdown",
   "id": "6611749e-41d4-4786-8ce3-f1af699d24e0",
   "metadata": {
    "jp-MarkdownHeadingCollapsed": true,
    "tags": []
   },
   "source": [
    "# Day 16"
   ]
  },
  {
   "cell_type": "code",
   "execution_count": 47,
   "id": "be492ce0-677b-455a-a209-5a434c00d384",
   "metadata": {},
   "outputs": [],
   "source": [
    "with open(\"16.txt\") as f:\n",
    "    volcano = {}\n",
    "    for line in f.readlines():\n",
    "        name, rate, valves = match(\n",
    "            \"Valve (..) has flow rate=(\\d+); tunnels? leads? to valves? (.+)\", line\n",
    "        ).groups()\n",
    "        rate = int(rate)\n",
    "        valves = valves.split(\", \")\n",
    "        volcano[name] = (rate, valves)\n",
    "\n",
    "names = list(volcano.keys())\n",
    "\n",
    "volcano = [(r, [names.index(n) for n in v]) for _, (r, v) in volcano.items()]"
   ]
  },
  {
   "cell_type": "code",
   "execution_count": 48,
   "id": "c9ddf641-fc22-498e-8526-1b1b04ff05ea",
   "metadata": {},
   "outputs": [],
   "source": [
    "@lru_cache(maxsize=None)\n",
    "def most(time=30, opened=0, pos=names.index(\"AA\")):\n",
    "    if time == 0:\n",
    "        return 0\n",
    "    r = max(most(time - 1, opened, valve) for valve in volcano[pos][1])\n",
    "    flow = volcano[pos][0]\n",
    "    if flow and (1 << pos) & ~opened:\n",
    "        s = flow * (time - 1) + most(time - 1, opened | (1 << pos), pos)\n",
    "        r = max(r, s)\n",
    "    return r"
   ]
  },
  {
   "cell_type": "code",
   "execution_count": 49,
   "id": "05aaa469-12d0-4c10-94e4-08cddca10855",
   "metadata": {},
   "outputs": [
    {
     "data": {
      "text/plain": [
       "1617"
      ]
     },
     "execution_count": 49,
     "metadata": {},
     "output_type": "execute_result"
    }
   ],
   "source": [
    "most()"
   ]
  },
  {
   "cell_type": "code",
   "execution_count": 63,
   "id": "7e5391fb-37fe-49a2-b9ab-0ff201da11ea",
   "metadata": {},
   "outputs": [
    {
     "name": "stdout",
     "output_type": "stream",
     "text": [
      "CPU times: user 8min 4s, sys: 11.4 s, total: 8min 15s\n",
      "Wall time: 8min 28s\n"
     ]
    },
    {
     "data": {
      "text/plain": [
       "2171"
      ]
     },
     "execution_count": 63,
     "metadata": {},
     "output_type": "execute_result"
    }
   ],
   "source": [
    "@lru_cache(maxsize=None)\n",
    "def most(time=26, opened=0, p1=names.index(\"AA\"), p2=names.index(\"AA\")):\n",
    "    if time == 0:\n",
    "        return 0\n",
    "    r = max(\n",
    "        most(time - 1, opened, *sorted((v1, v2)))\n",
    "        for v1, v2 in product(volcano[p1][1], volcano[p2][1])\n",
    "    )\n",
    "    f1, f2 = volcano[p1][0], volcano[p2][0]\n",
    "    if f1 and (1 << p1) & ~opened:\n",
    "        s = f1 * (time - 1) + max(\n",
    "            most(time - 1, opened | (1 << p1), *sorted((p1, v2)))\n",
    "            for v2 in volcano[p2][1]\n",
    "        )\n",
    "        r = max(r, s)\n",
    "    if f2 and (1 << p2) & ~opened:\n",
    "        s = f2 * (time - 1) + max(\n",
    "            most(time - 1, opened | (1 << p2), *sorted((v1, p2)))\n",
    "            for v1 in volcano[p1][1]\n",
    "        )\n",
    "        r = max(r, s)\n",
    "    if f1 and f2 and ((1 << p1) & ~opened) and ((1 << p2) & ~opened) and p1 != p2:\n",
    "        s = (f1 + f2) * (time - 1) + most(\n",
    "            time - 1, opened | (1 << p1) | (1 << p2), p1, p2\n",
    "        )\n",
    "        r = max(r, s)\n",
    "    return r\n",
    "\n",
    "\n",
    "%time most()"
   ]
  },
  {
   "cell_type": "markdown",
   "id": "b8cccc3f-2cdd-4880-aa4a-3eb3afe3a017",
   "metadata": {
    "jp-MarkdownHeadingCollapsed": true,
    "tags": []
   },
   "source": [
    "# Day 17"
   ]
  },
  {
   "cell_type": "code",
   "execution_count": 394,
   "id": "18787716-6cbb-48f2-8b31-a5ebc13a3856",
   "metadata": {},
   "outputs": [],
   "source": [
    "shapes = []\n",
    "for lines in \"\"\"####\n",
    "\n",
    ".#.\n",
    "###\n",
    ".#.\n",
    "\n",
    "..#\n",
    "..#\n",
    "###\n",
    "\n",
    "#\n",
    "#\n",
    "#\n",
    "#\n",
    "\n",
    "##\n",
    "##\"\"\".split(\n",
    "    \"\\n\\n\"\n",
    "):\n",
    "    shape = lines.split(\"\\n\")\n",
    "    h, w = len(shape), len(shape[0])\n",
    "    shape = np.fromiter((c == \"#\" for w in shape[::-1] for c in w), np.bool_)\n",
    "    shape = shape.reshape(h, w)\n",
    "    shapes.append(shape)"
   ]
  },
  {
   "cell_type": "code",
   "execution_count": 395,
   "id": "eff6645d-2b05-4367-970c-bb2c98bba92d",
   "metadata": {},
   "outputs": [],
   "source": [
    "with open(\"17.txt\") as f:\n",
    "    jets = f.readline()[:-1]"
   ]
  },
  {
   "cell_type": "code",
   "execution_count": 396,
   "id": "12191f02-1b0d-46a0-add0-b8dad6b2dd7f",
   "metadata": {},
   "outputs": [],
   "source": [
    "chamber = np.zeros((8088, 7), np.bool_)\n",
    "top = 0\n",
    "jet_it = cycle(jets)\n",
    "shape_it = cycle(shapes)\n",
    "for shape in islice(shape_it, 2022):\n",
    "    x, y = 2, top + 3\n",
    "    h, w = shape.shape\n",
    "    while True:\n",
    "        jet = next(jet_it)\n",
    "        x1, y1 = x + (-1 if jet == \"<\" else 1), y - 1\n",
    "        if 0 <= x1 <= 7 - w:\n",
    "            if not (shape * chamber[y : y + h, x1 : x1 + w]).any():\n",
    "                x = x1\n",
    "        if y1 >= 0 and not (shape * chamber[y1 : y1 + h, x : x + w]).any():\n",
    "            y = y1\n",
    "        else:\n",
    "            top = max(top, y + h)\n",
    "            chamber[y : y + h, x : x + w] |= shape\n",
    "            break"
   ]
  },
  {
   "cell_type": "code",
   "execution_count": 397,
   "id": "0e638d2a-9f31-4569-90ff-fd35718f964f",
   "metadata": {},
   "outputs": [
    {
     "data": {
      "text/plain": [
       "3124"
      ]
     },
     "execution_count": 397,
     "metadata": {},
     "output_type": "execute_result"
    }
   ],
   "source": [
    "top"
   ]
  },
  {
   "cell_type": "code",
   "execution_count": 73,
   "id": "3dd357dc-1234-4630-a8ba-ce0a90a02b30",
   "metadata": {},
   "outputs": [],
   "source": [
    "chamber = np.zeros((400_000, 7), np.bool_)\n",
    "top = 0\n",
    "jet_it = cycle(jets)\n",
    "shape_it = cycle(shapes)\n",
    "steps = []\n",
    "for shape in islice(shape_it, 100_000):\n",
    "    x, y = 2, top + 3\n",
    "    h, w = shape.shape\n",
    "    while True:\n",
    "        jet = next(jet_it)\n",
    "        x1, y1 = x + (-1 if jet == \"<\" else 1), y - 1\n",
    "        if 0 <= x1 <= 7 - w:\n",
    "            if not (shape * chamber[y : y + h, x1 : x1 + w]).any():\n",
    "                x = x1\n",
    "        if y1 >= 0 and not (shape * chamber[y1 : y1 + h, x : x + w]).any():\n",
    "            y = y1\n",
    "        else:\n",
    "            newtop = max(top, y + h)\n",
    "            steps.append(newtop - top)\n",
    "            top = newtop\n",
    "            chamber[y : y + h, x : x + w] |= shape\n",
    "            break"
   ]
  },
  {
   "cell_type": "code",
   "execution_count": 74,
   "id": "8ddb2683-db21-43f7-b4c7-073a587417a0",
   "metadata": {},
   "outputs": [],
   "source": [
    "dd = defaultdict(lambda: [])\n",
    "for i, w in enumerate(sliding_window(steps, 1700)):\n",
    "    dd[w].append(i)"
   ]
  },
  {
   "cell_type": "code",
   "execution_count": 75,
   "id": "4bde6103-ed13-42ec-9c7b-05720bc7c7c8",
   "metadata": {},
   "outputs": [
    {
     "data": {
      "text/plain": [
       "[657, 2357]"
      ]
     },
     "execution_count": 75,
     "metadata": {},
     "output_type": "execute_result"
    }
   ],
   "source": [
    "max(dd.items(), key=lambda kv: len(kv[1]))[1][0:2]"
   ]
  },
  {
   "cell_type": "code",
   "execution_count": 77,
   "id": "032c5f91-5a1b-4620-a456-67b04f4c0d88",
   "metadata": {},
   "outputs": [
    {
     "data": {
      "text/plain": [
       "1561176470569"
      ]
     },
     "execution_count": 77,
     "metadata": {},
     "output_type": "execute_result"
    }
   ],
   "source": [
    "div, mod = divmod(1000000000000 - 657, 1700)\n",
    "sum(steps[0:657]) + div * sum(steps[657:2357]) + sum(steps[657 : 657 + mod])"
   ]
  },
  {
   "cell_type": "markdown",
   "id": "41b19075-08d9-4f1c-b1e1-87b244bb1bfa",
   "metadata": {
    "jp-MarkdownHeadingCollapsed": true,
    "tags": []
   },
   "source": [
    "# Day 18"
   ]
  },
  {
   "cell_type": "code",
   "execution_count": 389,
   "id": "e386162b-c9a3-4688-85fe-3a9ede4dd4ad",
   "metadata": {},
   "outputs": [],
   "source": [
    "with open(\"18.txt\") as f:\n",
    "    cubes = set(tuple(map(int, line.split(\",\"))) for line in f.readlines())"
   ]
  },
  {
   "cell_type": "code",
   "execution_count": 391,
   "id": "b55de70c-4b5c-4a51-8d3b-bb0945f2c9de",
   "metadata": {},
   "outputs": [
    {
     "data": {
      "text/plain": [
       "3610"
      ]
     },
     "execution_count": 391,
     "metadata": {},
     "output_type": "execute_result"
    }
   ],
   "source": [
    "faces = 0\n",
    "for cube in cubes:\n",
    "    for a in range(3):\n",
    "        for d in (-1, 1):\n",
    "            top = cube[:a] + (cube[a] + d,) + cube[a + 1 :]\n",
    "            if top not in cubes:\n",
    "                faces += 1\n",
    "\n",
    "faces"
   ]
  },
  {
   "cell_type": "code",
   "execution_count": 379,
   "id": "e6324da7-3ffb-4f6a-a890-da6626d57b60",
   "metadata": {},
   "outputs": [
    {
     "data": {
      "text/plain": [
       "[[1, 19], [0, 19], [0, 18]]"
      ]
     },
     "execution_count": 379,
     "metadata": {},
     "output_type": "execute_result"
    }
   ],
   "source": [
    "[[f(t[a] for t in cubes) for f in (min, max)] for a in range(3)]"
   ]
  },
  {
   "cell_type": "code",
   "execution_count": 380,
   "id": "65753fea-ea01-4d11-8d1d-0d4b4d45562d",
   "metadata": {},
   "outputs": [],
   "source": [
    "front = [(-1, -1, -1)]\n",
    "fill = set(front)\n",
    "while front:\n",
    "    newfront = []\n",
    "    for cube in front:\n",
    "        for a in range(3):\n",
    "            for d in (-1, 1):\n",
    "                top = cube[:a] + (cube[a] + d,) + cube[a + 1 :]\n",
    "                if not all(-1 <= n <= 20 for n in top):\n",
    "                    continue\n",
    "                if top not in cubes and top not in fill:\n",
    "                    fill.add(top)\n",
    "                    newfront.append(top)\n",
    "    front = newfront"
   ]
  },
  {
   "cell_type": "code",
   "execution_count": 392,
   "id": "9f605b15-0350-4f56-9cb5-7c799a43393d",
   "metadata": {},
   "outputs": [],
   "source": [
    "faces = 0\n",
    "for cube in cubes:\n",
    "    for a in range(3):\n",
    "        for d in (-1, 1):\n",
    "            top = cube[:a] + (cube[a] + d,) + cube[a + 1 :]\n",
    "            if top not in cubes and top not in fill:\n",
    "                faces += 1"
   ]
  },
  {
   "cell_type": "code",
   "execution_count": 393,
   "id": "13da49d6-196d-4f29-a52b-14c6b47a1191",
   "metadata": {},
   "outputs": [
    {
     "data": {
      "text/plain": [
       "2082"
      ]
     },
     "execution_count": 393,
     "metadata": {},
     "output_type": "execute_result"
    }
   ],
   "source": [
    "3610 - faces"
   ]
  },
  {
   "cell_type": "markdown",
   "id": "8854079a-74ad-4180-b118-617bc69f7f64",
   "metadata": {
    "jp-MarkdownHeadingCollapsed": true,
    "tags": []
   },
   "source": [
    "# Day 19"
   ]
  },
  {
   "cell_type": "code",
   "execution_count": 353,
   "id": "e2da36da-2554-4ec7-8ae8-e2524b3770b8",
   "metadata": {},
   "outputs": [],
   "source": [
    "with open(\"19.txt\") as f:\n",
    "    bps = []\n",
    "    pat = \"Blueprint \\d+: Each ore robot costs (\\d+) ore. Each clay robot costs (\\d+) ore. \\\n",
    "Each obsidian robot costs (\\d+) ore and (\\d+) clay. Each geode robot costs (\\d+) ore and (\\d+) obsidian.\"\n",
    "    for line in f.readlines():\n",
    "        bp = np.zeros((4, 3), dtype=np.int_)\n",
    "        m = map(int, match(pat, line).groups())\n",
    "        bp[0, 0], bp[1, 0], bp[2, 0], bp[2, 1], bp[3, 0], bp[3, 2] = m\n",
    "        bps.append(bp)"
   ]
  },
  {
   "cell_type": "code",
   "execution_count": 364,
   "id": "9d8b9387-be36-492c-b95e-b63ed73919cd",
   "metadata": {},
   "outputs": [],
   "source": [
    "def best(bp):\n",
    "    m = 0\n",
    "\n",
    "    @njit\n",
    "    def helper(t=24, res=np.array((0, 0, 0)), rob=np.array((1, 0, 0, 0))):\n",
    "        nonlocal m\n",
    "        if t == 0:\n",
    "            return 0\n",
    "        if t * (rob[3] + t - 1) <= m + m:\n",
    "            return 0\n",
    "        r = 0\n",
    "        built = False\n",
    "        for d in range(3, -1, -1):\n",
    "            if ((rob[:3] == 0) & (bp[d] > 0)).any():\n",
    "                continue\n",
    "            if d < 3 and rob[d] == max(bp[d + 1 :, d]):\n",
    "                continue\n",
    "            e = max(d, 1)\n",
    "            ttb = max(max((bp[d, :e] - res[:e] + rob[:e] - 1) // rob[:e]), 0)\n",
    "            if ttb + 8 - d - d > t:\n",
    "                continue\n",
    "            built = True\n",
    "            newres = res + rob[:3] * (ttb + 1) - bp[d]\n",
    "            newrob = rob.copy()\n",
    "            newrob[d] += 1\n",
    "            g = rob[3] * (ttb + 1)\n",
    "            m -= g\n",
    "            r = max(r, g + helper(t - ttb - 1, newres, newrob))\n",
    "            m += g\n",
    "        if not built:\n",
    "            return rob[3] * t\n",
    "        return r\n",
    "\n",
    "    return helper()"
   ]
  },
  {
   "cell_type": "code",
   "execution_count": 365,
   "id": "f8b5d44e-f3b3-4e8b-bb11-38affb3cd8e8",
   "metadata": {},
   "outputs": [
    {
     "data": {
      "application/vnd.jupyter.widget-view+json": {
       "model_id": "5ec5679460304aa8bb35777176b71304",
       "version_major": 2,
       "version_minor": 0
      },
      "text/plain": [
       "  0%|          | 0/30 [00:00<?, ?it/s]"
      ]
     },
     "metadata": {},
     "output_type": "display_data"
    },
    {
     "data": {
      "text/plain": [
       "1565"
      ]
     },
     "execution_count": 365,
     "metadata": {},
     "output_type": "execute_result"
    }
   ],
   "source": [
    "sum((i + 1) * best(bp) for i, bp in enumerate(tqdm(bps)))"
   ]
  },
  {
   "cell_type": "code",
   "execution_count": 371,
   "id": "00f5ace1-7a8b-43de-b247-2affe161d850",
   "metadata": {},
   "outputs": [],
   "source": [
    "def best(bp):\n",
    "    @njit\n",
    "    def helper(t=32, res=np.array((0, 0, 0)), rob=np.array((1, 0, 0, 0))):\n",
    "        if t == 0:\n",
    "            return 0\n",
    "        r = 0\n",
    "        built = False\n",
    "        for d in range(3, -1, -1):\n",
    "            if ((rob[:3] == 0) & (bp[d] > 0)).any():\n",
    "                continue\n",
    "            if d < 3 and rob[d] == max(bp[d + 1 :, d]):\n",
    "                continue\n",
    "            e = max(d, 1)\n",
    "            ttb = max(max((bp[d, :e] - res[:e] + rob[:e] - 1) // rob[:e]), 0)\n",
    "            if ttb + 8 - d - d > t:\n",
    "                continue\n",
    "            built = True\n",
    "            newres = res + rob[:3] * (ttb + 1) - bp[d]\n",
    "            newrob = rob.copy()\n",
    "            newrob[d] += 1\n",
    "            g = rob[3] * (ttb + 1)\n",
    "            r = max(r, g + helper(t - ttb - 1, newres, newrob))\n",
    "        if not built:\n",
    "            return rob[3] * t\n",
    "        return r\n",
    "\n",
    "    return helper()"
   ]
  },
  {
   "cell_type": "code",
   "execution_count": 374,
   "id": "c810c681-c568-43dd-a8ab-582dcbe3a0af",
   "metadata": {},
   "outputs": [
    {
     "data": {
      "application/vnd.jupyter.widget-view+json": {
       "model_id": "13803b75b44c40ec93cee7976908b1d2",
       "version_major": 2,
       "version_minor": 0
      },
      "text/plain": [
       "  0%|          | 0/3 [00:00<?, ?it/s]"
      ]
     },
     "metadata": {},
     "output_type": "display_data"
    },
    {
     "data": {
      "text/plain": [
       "10672"
      ]
     },
     "execution_count": 374,
     "metadata": {},
     "output_type": "execute_result"
    }
   ],
   "source": [
    "reduce(mul, map(best, tqdm(bps[:3])))"
   ]
  },
  {
   "cell_type": "markdown",
   "id": "d3111058-4e35-498b-a16a-d2a97c13dd6f",
   "metadata": {
    "jp-MarkdownHeadingCollapsed": true,
    "tags": []
   },
   "source": [
    "# Day 20"
   ]
  },
  {
   "cell_type": "code",
   "execution_count": 350,
   "id": "6c5acc39-8a2a-4d6c-b7fa-980f26f9838f",
   "metadata": {},
   "outputs": [],
   "source": [
    "with open(\"20.txt\") as f:\n",
    "    items = list(map(int, f.readlines()))\n",
    "\n",
    "items = [811589153 * item for item in items]  # only part 2\n",
    "L = len(items)\n",
    "L1 = L - 1\n",
    "poi = list(range(L))\n",
    "iop = list(range(L))"
   ]
  },
  {
   "cell_type": "code",
   "execution_count": 351,
   "id": "776ceb26-f17b-408b-86c1-18f11f34755f",
   "metadata": {},
   "outputs": [],
   "source": [
    "for _ in range(10):  # use 1 for part 1\n",
    "    for i in range(L):\n",
    "        j = poi[i]\n",
    "        k = (j + items[i]) % L1\n",
    "        if j != k:\n",
    "            if j < k:\n",
    "                iop[j:k], iop[k] = iop[j + 1 : k + 1], iop[j]\n",
    "            else:\n",
    "                j, k = k, j\n",
    "                iop[j + 1 : k + 1], iop[j] = iop[j:k], iop[k]\n",
    "            for n in range(j, 1 + k):\n",
    "                poi[iop[n]] = n"
   ]
  },
  {
   "cell_type": "code",
   "execution_count": 352,
   "id": "6e025f9a-72c7-4bd2-87cd-fd38721727c8",
   "metadata": {},
   "outputs": [
    {
     "data": {
      "text/plain": [
       "7865110481723"
      ]
     },
     "execution_count": 352,
     "metadata": {},
     "output_type": "execute_result"
    }
   ],
   "source": [
    "pz = poi[items.index(0)]\n",
    "sum(items[iop[(pz + k) % L]] for k in (1000, 2000, 3000))"
   ]
  },
  {
   "cell_type": "markdown",
   "id": "df32503a-aac0-4db1-a446-f26a258c7077",
   "metadata": {
    "jp-MarkdownHeadingCollapsed": true,
    "tags": []
   },
   "source": [
    "# Day 21"
   ]
  },
  {
   "cell_type": "code",
   "execution_count": 344,
   "id": "75723d7c-1d1b-4242-888c-39a45d45c553",
   "metadata": {},
   "outputs": [],
   "source": [
    "with open(\"21.txt\") as f:\n",
    "    lines = {}\n",
    "    for line in f.readlines():\n",
    "        name, expr = match(r\"(.+): (.+)\", line).groups()\n",
    "        lines[name] = expr"
   ]
  },
  {
   "cell_type": "code",
   "execution_count": 345,
   "id": "18fc5e1d-aa28-47f6-b891-583292f4d2d0",
   "metadata": {},
   "outputs": [
    {
     "data": {
      "text/html": [
       "232974643455000"
      ],
      "text/plain": [
       "232974643455000"
      ]
     },
     "execution_count": 345,
     "metadata": {},
     "output_type": "execute_result"
    }
   ],
   "source": [
    "solver = Solver()\n",
    "symbols = {name: Int(name) for name in lines}\n",
    "for name, expr in lines.items():\n",
    "    solver.add(symbols[name] == eval(expr, symbols))\n",
    "\n",
    "solver.check()\n",
    "solver.model().eval(symbols[\"root\"])"
   ]
  },
  {
   "cell_type": "code",
   "execution_count": 346,
   "id": "b793a8b0-6bcb-4549-81b7-34119954fa63",
   "metadata": {},
   "outputs": [
    {
     "data": {
      "text/html": [
       "3740214169961"
      ],
      "text/plain": [
       "3740214169961"
      ]
     },
     "execution_count": 346,
     "metadata": {},
     "output_type": "execute_result"
    }
   ],
   "source": [
    "solver = Solver()\n",
    "symbols = {name: Int(name) for name in lines}\n",
    "for name, expr in lines.items():\n",
    "    if name == \"root\":\n",
    "        expr = f\"{expr[:4]} == {expr[-4:]}\"\n",
    "        solver.add(eval(expr, symbols))\n",
    "    elif name != \"humn\":\n",
    "        solver.add(symbols[name] == eval(expr, symbols))\n",
    "        if \"/\" in expr:  # Z3 does integer division on integers\n",
    "            solver.add(symbols[expr[:4]] % symbols[expr[-4:]] == 0)\n",
    "\n",
    "solver.check()\n",
    "solver.model().eval(symbols[\"humn\"])"
   ]
  },
  {
   "cell_type": "markdown",
   "id": "c40d55b4-c091-4491-95cd-8cd245797f73",
   "metadata": {
    "jp-MarkdownHeadingCollapsed": true,
    "tags": []
   },
   "source": [
    "# Day 22"
   ]
  },
  {
   "cell_type": "code",
   "execution_count": 331,
   "id": "693a290d-d0e6-4d39-a27d-a05db3ce5c30",
   "metadata": {},
   "outputs": [],
   "source": [
    "with open(\"22.txt\") as f:\n",
    "    lines = [line[:-1] for line in f.readlines()]"
   ]
  },
  {
   "cell_type": "code",
   "execution_count": 332,
   "id": "28ffc932-4a65-43fe-8208-dcce319196aa",
   "metadata": {},
   "outputs": [],
   "source": [
    "lines, moves = lines[:-2], lines[-1]\n",
    "dim = np.array((len(lines), max(len(line) for line in lines)))\n",
    "lines = [line + \" \" * max(0, dim[1] - len(line)) for line in lines]"
   ]
  },
  {
   "cell_type": "code",
   "execution_count": 333,
   "id": "0cb20e12-644c-4f84-8fc7-8891bb970409",
   "metadata": {},
   "outputs": [],
   "source": [
    "def mapfwd(pos, d):\n",
    "    res = (pos + d) % dim\n",
    "    while lines[res[0]][res[1]] == \" \":\n",
    "        res = (res + d) % dim\n",
    "    return res"
   ]
  },
  {
   "cell_type": "code",
   "execution_count": 335,
   "id": "09528c19-5b6f-4e2b-87d2-c1d7250da752",
   "metadata": {},
   "outputs": [
    {
     "data": {
      "text/plain": [
       "1484"
      ]
     },
     "execution_count": 335,
     "metadata": {},
     "output_type": "execute_result"
    }
   ],
   "source": [
    "pos = np.array((0, lines[0].find(\".\")))\n",
    "d = (0, 1)\n",
    "ds = ((0, 1), (1, 0), (0, -1), (-1, 0))\n",
    "for n, turn in batched(re.findall(\"\\d+|L|R|x\", moves + \"x\"), 2):\n",
    "    for _ in range(int(n)):\n",
    "        newpos = mapfwd(pos, d)\n",
    "        if lines[newpos[0]][newpos[1]] != \"#\":\n",
    "            pos = newpos\n",
    "    if turn and turn in \"LR\":\n",
    "        d = ds[(ds.index(d) + (1 if turn == \"R\" else -1)) % 4]\n",
    "\n",
    "1000 * (pos[0] + 1) + 4 * (pos[1] + 1) + ds.index(d)"
   ]
  },
  {
   "cell_type": "code",
   "execution_count": 336,
   "id": "939055d4-836d-46e9-aaf2-45699bbe405d",
   "metadata": {},
   "outputs": [],
   "source": [
    "size = min(len(line.replace(\" \", \"\")) for line in lines)\n",
    "size2 = size * 2"
   ]
  },
  {
   "cell_type": "code",
   "execution_count": 337,
   "id": "18309a68-6772-45ad-b905-a90f1b3185d8",
   "metadata": {},
   "outputs": [],
   "source": [
    "def normal(pos):\n",
    "    d = next(d for d in range(3) if pos[d] in (0, size2))\n",
    "    r = np.array((0, 0, 0))\n",
    "    r[d] = 1 if pos[d] else -1\n",
    "    return r"
   ]
  },
  {
   "cell_type": "code",
   "execution_count": 338,
   "id": "766996b0-37ac-456b-9c2b-575ebd328595",
   "metadata": {},
   "outputs": [],
   "source": [
    "def cubefwd(pos, d):\n",
    "    pos = pos + d\n",
    "    if not all(0 <= c <= size2 for c in pos):\n",
    "        newd = -normal(pos) * 2\n",
    "        pos += (newd - d) // 2\n",
    "        d = newd\n",
    "    return pos, d"
   ]
  },
  {
   "cell_type": "code",
   "execution_count": 339,
   "id": "0bb328db-bc95-40f7-be2d-fce3d0bda0ae",
   "metadata": {},
   "outputs": [],
   "source": [
    "def right(pos, d):\n",
    "    return np.cross(d, normal(pos))"
   ]
  },
  {
   "cell_type": "code",
   "execution_count": 340,
   "id": "8884e6a9-9baa-49a3-a115-7dfc5a869aa1",
   "metadata": {},
   "outputs": [],
   "source": [
    "def left(pos, d):\n",
    "    return -right(pos, d)"
   ]
  },
  {
   "cell_type": "code",
   "execution_count": 341,
   "id": "216906c7-7ec2-4540-8b30-58bf6b4f0f8f",
   "metadata": {},
   "outputs": [],
   "source": [
    "pos = np.array((0, lines[0].find(\".\")))\n",
    "d = (0, 1)\n",
    "cp = np.array((1, 1, size2))\n",
    "cd = np.array((0, 2, 0))\n",
    "unfold = {}\n",
    "\n",
    "\n",
    "def walk(cp, cd, p, d):\n",
    "    work = deque(((cp, cd, p, d),))\n",
    "    while work:\n",
    "        cp, cd, p, d = work.pop()\n",
    "        if (0 <= p).all() and (p < dim).all() and lines[p[0]][p[1]] != \" \":\n",
    "            ix = (tuple(cp), tuple(cd))\n",
    "            if ix not in unfold:\n",
    "                unfold[ix] = (p, d)\n",
    "                work.append((*cubefwd(cp, cd), p + d, d))\n",
    "                work.append((cp, right(cp, cd), p, ds[(ds.index(d) + 1) & 3]))\n",
    "\n",
    "\n",
    "walk(cp, cd, pos, d)"
   ]
  },
  {
   "cell_type": "code",
   "execution_count": 342,
   "id": "98d0654a-2d2b-4422-9834-c203a4e4a2d0",
   "metadata": {},
   "outputs": [
    {
     "data": {
      "text/plain": [
       "142228"
      ]
     },
     "execution_count": 342,
     "metadata": {},
     "output_type": "execute_result"
    }
   ],
   "source": [
    "cp = np.array((1, 1, size2))\n",
    "cd = np.array((0, 2, 0))\n",
    "for n, turn in batched(re.findall(\"\\d+|L|R|x\", moves + \"x\"), 2):\n",
    "    for _ in range(int(n)):\n",
    "        newp, nd = cubefwd(cp, cd)\n",
    "        newpos = unfold[(tuple(newp), tuple(nd))][0]\n",
    "        if lines[newpos[0]][newpos[1]] != \"#\":\n",
    "            cp, cd = newp, nd\n",
    "    if turn in \"LR\":\n",
    "        cd = right(cp, cd) if turn == \"R\" else left(cp, cd)\n",
    "\n",
    "pos, d = unfold[(tuple(cp), tuple(cd))]\n",
    "1000 * (pos[0] + 1) + 4 * (pos[1] + 1) + ds.index(d)"
   ]
  },
  {
   "cell_type": "markdown",
   "id": "aa9f3635-c418-41e2-a4e3-03e157ded572",
   "metadata": {
    "jp-MarkdownHeadingCollapsed": true,
    "tags": []
   },
   "source": [
    "# Day 23"
   ]
  },
  {
   "cell_type": "code",
   "execution_count": 306,
   "id": "8ec998bb-74a1-4196-a350-8c9c0b618410",
   "metadata": {},
   "outputs": [],
   "source": [
    "with open(\"23.txt\") as f:\n",
    "    lines = [line[:-1] for line in f.readlines()]\n",
    "\n",
    "grove = set((r, c) for r, l in enumerate(lines) for c, ch in enumerate(l) if ch == \"#\")\n",
    "compass = tuple(product((0, 1), (-1, 1)))"
   ]
  },
  {
   "cell_type": "code",
   "execution_count": 307,
   "id": "5ed11ad3-824e-460c-b325-ad46b73d919d",
   "metadata": {},
   "outputs": [],
   "source": [
    "def step():\n",
    "    global grove, compass\n",
    "    newgrove = set()\n",
    "    active = []\n",
    "    for r, c in grove:\n",
    "        for dr, dc in product((-1, 0, 1), repeat=2):\n",
    "            if not (dr == dc == 0) and (r + dr, c + dc) in grove:\n",
    "                active.append((r, c))\n",
    "                break\n",
    "        else:\n",
    "            newgrove.add((r, c))\n",
    "    wishers = []\n",
    "    meets = Counter()\n",
    "    for dim, dis in compass:\n",
    "        wishing, newactive = [], []\n",
    "        for r, c in active:\n",
    "            for x in (-1, 0, 1):\n",
    "                p = (r + x, c + dis) if dim else (r + dis, c + x)\n",
    "                if p in grove:\n",
    "                    newactive.append((r, c))\n",
    "                    break\n",
    "            else:\n",
    "                wishing.append((r, c))\n",
    "        active = newactive\n",
    "        wishers.append(wishing)\n",
    "        for r, c in wishing:\n",
    "            p = (r, c + dis) if dim else (r + dis, c)\n",
    "            meets[p] += 1\n",
    "    for (dim, dis), m in zip(compass, wishers):\n",
    "        for r, c in m:\n",
    "            p = (r, c + dis) if dim else (r + dis, c)\n",
    "            newgrove.add((r, c) if meets[p] > 1 else p)\n",
    "    newgrove.update(active)\n",
    "    if grove == newgrove:\n",
    "        return True\n",
    "    grove = newgrove\n",
    "    compass = compass[1:] + (compass[0],)"
   ]
  },
  {
   "cell_type": "code",
   "execution_count": 308,
   "id": "7a2c3ffd-21ff-441d-8884-3994493430cf",
   "metadata": {},
   "outputs": [],
   "source": [
    "for _ in range(10):\n",
    "    step()"
   ]
  },
  {
   "cell_type": "code",
   "execution_count": 309,
   "id": "0394bf08-2f49-4b8b-af8b-e86b34217266",
   "metadata": {},
   "outputs": [
    {
     "data": {
      "text/plain": [
       "4336"
      ]
     },
     "execution_count": 309,
     "metadata": {},
     "output_type": "execute_result"
    }
   ],
   "source": [
    "top = min(r for r, c in grove)\n",
    "bottom = max(r for r, c in grove) + 1\n",
    "left = min(c for r, c in grove)\n",
    "right = max(c for r, c in grove) + 1\n",
    "(bottom - top) * (right - left) - len(grove)"
   ]
  },
  {
   "cell_type": "code",
   "execution_count": 310,
   "id": "4df03194-7461-48a5-994d-05e4464716b3",
   "metadata": {},
   "outputs": [
    {
     "data": {
      "text/plain": [
       "1005"
      ]
     },
     "execution_count": 310,
     "metadata": {},
     "output_type": "execute_result"
    }
   ],
   "source": [
    "for steps in count(11):\n",
    "    if step():\n",
    "        break\n",
    "steps"
   ]
  },
  {
   "cell_type": "markdown",
   "id": "0b5eee9f-b1d9-480c-89f2-5b5f573602e7",
   "metadata": {
    "jp-MarkdownHeadingCollapsed": true,
    "tags": []
   },
   "source": [
    "# Day 24"
   ]
  },
  {
   "cell_type": "code",
   "execution_count": 252,
   "id": "fb8e6601-b226-4da5-9ba5-bd9569befd9c",
   "metadata": {},
   "outputs": [],
   "source": [
    "with open(\"24.txt\") as f:\n",
    "    lines = [line[:-1] for line in f.readlines()]"
   ]
  },
  {
   "cell_type": "code",
   "execution_count": 253,
   "id": "00aaa571-f0a3-4ff0-a7c0-d237712a7850",
   "metadata": {},
   "outputs": [],
   "source": [
    "h, w = len(lines), len(lines[0])"
   ]
  },
  {
   "cell_type": "code",
   "execution_count": 254,
   "id": "071fe562-ecb4-4933-85c5-3ec6560b265c",
   "metadata": {},
   "outputs": [],
   "source": [
    "up = ~np.array([[c == \"^\" for c in line] for line in lines])[1:-1, 1:-1]\n",
    "dn = ~np.array([[c == \"v\" for c in line] for line in lines])[1:-1, 1:-1]\n",
    "lt = ~np.array([[c == \"<\" for c in line] for line in lines])[1:-1, 1:-1]\n",
    "rt = ~np.array([[c == \">\" for c in line] for line in lines])[1:-1, 1:-1]"
   ]
  },
  {
   "cell_type": "code",
   "execution_count": 255,
   "id": "dd65065e-c021-47fd-afed-ffc149ee7a64",
   "metadata": {},
   "outputs": [
    {
     "data": {
      "text/plain": [
       "238"
      ]
     },
     "execution_count": 255,
     "metadata": {},
     "output_type": "execute_result"
    }
   ],
   "source": [
    "reached = np.zeros((h, w), np.bool_)\n",
    "reached[0, 1] = True\n",
    "for top in count(1):\n",
    "    reaching = reached.copy()\n",
    "    window = reaching[1:-1, 1:-1]\n",
    "    for d in ((-1, 0), (1, 0), (0, -1), (0, 1)):\n",
    "        window |= reached[1 + d[0] : -1 + d[0] + h, 1 + d[1] : -1 + d[1] + w]\n",
    "    for args in ((up, -top, 0), (dn, top, 0), (lt, -top, 1), (rt, top, 1)):\n",
    "        window &= np.roll(*args)\n",
    "    reaching[-1, -2] = reached[-2, -2]\n",
    "    reached = reaching\n",
    "    if reached[-1, -2]:\n",
    "        break\n",
    "top"
   ]
  },
  {
   "cell_type": "code",
   "execution_count": 256,
   "id": "fa7971b8-6323-4e21-a1be-4297c2ee1f9f",
   "metadata": {},
   "outputs": [
    {
     "data": {
      "text/plain": [
       "751"
      ]
     },
     "execution_count": 256,
     "metadata": {},
     "output_type": "execute_result"
    }
   ],
   "source": [
    "reached = np.zeros((3, h, w), np.bool_)\n",
    "reached[0, 0, 1] = True\n",
    "for top in count(1):\n",
    "    reaching = reached.copy()\n",
    "    window = reaching[:, 1:-1, 1:-1]\n",
    "    for d in ((-1, 0), (1, 0), (0, -1), (0, 1)):\n",
    "        window |= reached[:, 1 + d[0] : -1 + d[0] + h, 1 + d[1] : -1 + d[1] + w]\n",
    "    for args in ((up, -top, 0), (dn, top, 0), (lt, -top, 1), (rt, top, 1)):\n",
    "        window &= np.roll(*args)\n",
    "    reaching[1, -1, -2] |= reached[0, -2, -2]\n",
    "    reaching[2, 0, 1] |= reached[1, 1, 1]\n",
    "    reaching[2, -1, -2] = reached[2, -2, -2]\n",
    "    reached = reaching\n",
    "    if reached[2, -1, -2]:\n",
    "        break\n",
    "top"
   ]
  },
  {
   "cell_type": "markdown",
   "id": "d8b4e194-7753-4efc-b94b-1d8ae9b9b474",
   "metadata": {
    "jp-MarkdownHeadingCollapsed": true,
    "tags": []
   },
   "source": [
    "# Day 25"
   ]
  },
  {
   "cell_type": "code",
   "execution_count": 237,
   "id": "ca9cf9ed-89f2-4df4-8eed-aa484f77ca86",
   "metadata": {},
   "outputs": [],
   "source": [
    "def fromsnafu(s):\n",
    "    return reduce(lambda r, c: 5 * r + \"=-012\".index(c) - 2, s, 0)"
   ]
  },
  {
   "cell_type": "code",
   "execution_count": 238,
   "id": "68dce2eb-e634-48c2-8652-7e331bc1dccd",
   "metadata": {},
   "outputs": [],
   "source": [
    "def tosnafu(n):\n",
    "    d, m = divmod(n, 5)\n",
    "    return tosnafu(d + (m > 2)) + \"012=-\"[m] if n else \"\""
   ]
  },
  {
   "cell_type": "code",
   "execution_count": 239,
   "id": "1858aa02-ba2e-4310-8c79-01634379fd02",
   "metadata": {},
   "outputs": [
    {
     "name": "stdout",
     "output_type": "stream",
     "text": [
      "2-=102--02--=1-12=22\n"
     ]
    }
   ],
   "source": [
    "with open(\"25.txt\") as f:\n",
    "    print(tosnafu(sum(fromsnafu(line[:-1]) for line in f.readlines())))"
   ]
  }
 ],
 "metadata": {
  "kernelspec": {
   "display_name": "Python 3 (ipykernel)",
   "language": "python",
   "name": "python3"
  },
  "language_info": {
   "codemirror_mode": {
    "name": "ipython",
    "version": 3
   },
   "file_extension": ".py",
   "mimetype": "text/x-python",
   "name": "python",
   "nbconvert_exporter": "python",
   "pygments_lexer": "ipython3",
   "version": "3.10.9"
  },
  "widgets": {
   "application/vnd.jupyter.widget-state+json": {
    "state": {
     "009460f393f3418e8e16faee10f4271a": {
      "model_module": "@jupyter-widgets/controls",
      "model_module_version": "2.0.0",
      "model_name": "HTMLModel",
      "state": {
       "layout": "IPY_MODEL_8102ed1fc0514432bea96a167e585821",
       "style": "IPY_MODEL_07b853b17d914e87b95588ea10eae705",
       "value": "100%"
      }
     },
     "0284d558927543338f0d4b3d57d803e4": {
      "model_module": "@jupyter-widgets/base",
      "model_module_version": "2.0.0",
      "model_name": "LayoutModel",
      "state": {}
     },
     "02d98a6daa3b4ffeb0b66f31d40b9e51": {
      "model_module": "@jupyter-widgets/controls",
      "model_module_version": "2.0.0",
      "model_name": "ProgressStyleModel",
      "state": {
       "description_width": ""
      }
     },
     "07b853b17d914e87b95588ea10eae705": {
      "model_module": "@jupyter-widgets/controls",
      "model_module_version": "2.0.0",
      "model_name": "HTMLStyleModel",
      "state": {
       "description_width": "",
       "font_size": null,
       "text_color": null
      }
     },
     "0dec2fbb27884dc1a5e40c2733776ab3": {
      "model_module": "@jupyter-widgets/controls",
      "model_module_version": "2.0.0",
      "model_name": "ProgressStyleModel",
      "state": {
       "description_width": ""
      }
     },
     "13803b75b44c40ec93cee7976908b1d2": {
      "model_module": "@jupyter-widgets/controls",
      "model_module_version": "2.0.0",
      "model_name": "HBoxModel",
      "state": {
       "children": [
        "IPY_MODEL_009460f393f3418e8e16faee10f4271a",
        "IPY_MODEL_2b45cfcfc5114a3197c5368822e37274",
        "IPY_MODEL_b0b0d5a7853343b7a37447fe31502e1d"
       ],
       "layout": "IPY_MODEL_e4cd6a4802144ad0a7522174603e8d08"
      }
     },
     "153b1096888b43dcb819a11aa07690f5": {
      "model_module": "@jupyter-widgets/base",
      "model_module_version": "2.0.0",
      "model_name": "LayoutModel",
      "state": {}
     },
     "1842b97cabb44556bd5045a815be0ca8": {
      "model_module": "@jupyter-widgets/base",
      "model_module_version": "2.0.0",
      "model_name": "LayoutModel",
      "state": {}
     },
     "1bd53494d6d64678a9b28e6d3f35f6ef": {
      "model_module": "@jupyter-widgets/base",
      "model_module_version": "2.0.0",
      "model_name": "LayoutModel",
      "state": {}
     },
     "1c26805feb2949eda165aa26d64e13fc": {
      "model_module": "@jupyter-widgets/controls",
      "model_module_version": "2.0.0",
      "model_name": "HBoxModel",
      "state": {
       "children": [
        "IPY_MODEL_3e35d15bad364219873246a33e263729",
        "IPY_MODEL_e17dc9612e474dd480f15115a162930f",
        "IPY_MODEL_6597182f7020453a8362942488ca3c8f"
       ],
       "layout": "IPY_MODEL_d89c06aac3aa4c3596d858feaec64777"
      }
     },
     "1c6df1ba49f54630a37aeafa6898de33": {
      "model_module": "@jupyter-widgets/controls",
      "model_module_version": "2.0.0",
      "model_name": "HTMLStyleModel",
      "state": {
       "description_width": "",
       "font_size": null,
       "text_color": null
      }
     },
     "1f217e64ca5d4a829212669b80341533": {
      "model_module": "@jupyter-widgets/base",
      "model_module_version": "2.0.0",
      "model_name": "LayoutModel",
      "state": {}
     },
     "1ff0c82fb4794c8493c164d02aa9fa9b": {
      "model_module": "@jupyter-widgets/controls",
      "model_module_version": "2.0.0",
      "model_name": "HTMLStyleModel",
      "state": {
       "description_width": "",
       "font_size": null,
       "text_color": null
      }
     },
     "24d2af2593b14c259160285686cb98ff": {
      "model_module": "@jupyter-widgets/controls",
      "model_module_version": "2.0.0",
      "model_name": "HTMLStyleModel",
      "state": {
       "description_width": "",
       "font_size": null,
       "text_color": null
      }
     },
     "258041a51b35403db6ba2a0b193cb67a": {
      "model_module": "@jupyter-widgets/base",
      "model_module_version": "2.0.0",
      "model_name": "LayoutModel",
      "state": {}
     },
     "25c618428de2458c892e418d6dba4111": {
      "model_module": "@jupyter-widgets/base",
      "model_module_version": "2.0.0",
      "model_name": "LayoutModel",
      "state": {}
     },
     "272a672c7f85461ba84f676c84300018": {
      "model_module": "@jupyter-widgets/controls",
      "model_module_version": "2.0.0",
      "model_name": "ProgressStyleModel",
      "state": {
       "description_width": ""
      }
     },
     "2b45cfcfc5114a3197c5368822e37274": {
      "model_module": "@jupyter-widgets/controls",
      "model_module_version": "2.0.0",
      "model_name": "FloatProgressModel",
      "state": {
       "bar_style": "success",
       "layout": "IPY_MODEL_3c8d59ae3a0d46bbb257ad847fa77ff9",
       "max": 3,
       "style": "IPY_MODEL_597e9ad52b18431a955e0b94b2035dbd",
       "value": 3
      }
     },
     "2bdb04e9c88c4d95837c2d77840ee028": {
      "model_module": "@jupyter-widgets/base",
      "model_module_version": "2.0.0",
      "model_name": "LayoutModel",
      "state": {}
     },
     "34945c09d2384fa198aad0b2bd728d13": {
      "model_module": "@jupyter-widgets/controls",
      "model_module_version": "2.0.0",
      "model_name": "HTMLStyleModel",
      "state": {
       "description_width": "",
       "font_size": null,
       "text_color": null
      }
     },
     "37c0472881f3466bb4846789f3cdd18f": {
      "model_module": "@jupyter-widgets/controls",
      "model_module_version": "2.0.0",
      "model_name": "HTMLModel",
      "state": {
       "layout": "IPY_MODEL_6e65b665dd7d4edeb40824f138fb263e",
       "style": "IPY_MODEL_47878e6058144a4baa5b411b6e653916",
       "value": " 3/3 [00:21&lt;00:00,  5.62s/it]"
      }
     },
     "39e8c2ea192241e98254c1b676cfb61e": {
      "model_module": "@jupyter-widgets/controls",
      "model_module_version": "2.0.0",
      "model_name": "HTMLModel",
      "state": {
       "layout": "IPY_MODEL_1f217e64ca5d4a829212669b80341533",
       "style": "IPY_MODEL_e8f732a7e5f646f2ae0d9c3a3e97fd9f",
       "value": " 3/3 [00:24&lt;00:00,  6.45s/it]"
      }
     },
     "3c8d59ae3a0d46bbb257ad847fa77ff9": {
      "model_module": "@jupyter-widgets/base",
      "model_module_version": "2.0.0",
      "model_name": "LayoutModel",
      "state": {}
     },
     "3e35d15bad364219873246a33e263729": {
      "model_module": "@jupyter-widgets/controls",
      "model_module_version": "2.0.0",
      "model_name": "HTMLModel",
      "state": {
       "layout": "IPY_MODEL_d67662629efe4bb49132879abc72c6e0",
       "style": "IPY_MODEL_4234828c981243f5a1f84f37dca798a9",
       "value": "100%"
      }
     },
     "410f74a16e6745c797c20e07df76d9c9": {
      "model_module": "@jupyter-widgets/base",
      "model_module_version": "2.0.0",
      "model_name": "LayoutModel",
      "state": {}
     },
     "4234828c981243f5a1f84f37dca798a9": {
      "model_module": "@jupyter-widgets/controls",
      "model_module_version": "2.0.0",
      "model_name": "HTMLStyleModel",
      "state": {
       "description_width": "",
       "font_size": null,
       "text_color": null
      }
     },
     "44fc9bf944254e6a878300b7dce2cccd": {
      "model_module": "@jupyter-widgets/base",
      "model_module_version": "2.0.0",
      "model_name": "LayoutModel",
      "state": {}
     },
     "45f1ccaeee5d45688640ac603d2c10be": {
      "model_module": "@jupyter-widgets/base",
      "model_module_version": "2.0.0",
      "model_name": "LayoutModel",
      "state": {}
     },
     "47324f74bfc048a2986f3879c07ba012": {
      "model_module": "@jupyter-widgets/base",
      "model_module_version": "2.0.0",
      "model_name": "LayoutModel",
      "state": {}
     },
     "47851dbfd7f545c2be951d0a18c89f63": {
      "model_module": "@jupyter-widgets/controls",
      "model_module_version": "2.0.0",
      "model_name": "HTMLModel",
      "state": {
       "layout": "IPY_MODEL_5474472e18494c1eb766a821c213d712",
       "style": "IPY_MODEL_24d2af2593b14c259160285686cb98ff",
       "value": " 30/30 [00:10&lt;00:00,  2.62it/s]"
      }
     },
     "47878e6058144a4baa5b411b6e653916": {
      "model_module": "@jupyter-widgets/controls",
      "model_module_version": "2.0.0",
      "model_name": "HTMLStyleModel",
      "state": {
       "description_width": "",
       "font_size": null,
       "text_color": null
      }
     },
     "47c3d27e3cf0444da98b8d2e013ecfcf": {
      "model_module": "@jupyter-widgets/controls",
      "model_module_version": "2.0.0",
      "model_name": "HTMLStyleModel",
      "state": {
       "description_width": "",
       "font_size": null,
       "text_color": null
      }
     },
     "47e73af3a4d44120a8265b7986e6db02": {
      "model_module": "@jupyter-widgets/base",
      "model_module_version": "2.0.0",
      "model_name": "LayoutModel",
      "state": {}
     },
     "48cb11691e85466ea993964904d13528": {
      "model_module": "@jupyter-widgets/controls",
      "model_module_version": "2.0.0",
      "model_name": "HBoxModel",
      "state": {
       "children": [
        "IPY_MODEL_b9e2c8d8f3db429bb78d963918a03bb2",
        "IPY_MODEL_ebb21c2145ec4169ad6aad0a7c51d459",
        "IPY_MODEL_d3d5784194214e0a842ed647c098d0be"
       ],
       "layout": "IPY_MODEL_bcbf3012632c4b1e906de60105cf99e4"
      }
     },
     "4919a22eef724989a15b9a81ffbd1872": {
      "model_module": "@jupyter-widgets/controls",
      "model_module_version": "2.0.0",
      "model_name": "ProgressStyleModel",
      "state": {
       "description_width": ""
      }
     },
     "4c221cd32f774c13a3604f3de1aecf1e": {
      "model_module": "@jupyter-widgets/controls",
      "model_module_version": "2.0.0",
      "model_name": "HTMLStyleModel",
      "state": {
       "description_width": "",
       "font_size": null,
       "text_color": null
      }
     },
     "4c933211060546b2866d678f3b2a3c8f": {
      "model_module": "@jupyter-widgets/controls",
      "model_module_version": "2.0.0",
      "model_name": "FloatProgressModel",
      "state": {
       "bar_style": "success",
       "layout": "IPY_MODEL_91952126e5f84fdeadb50e677bcc6c12",
       "max": 30,
       "style": "IPY_MODEL_272a672c7f85461ba84f676c84300018",
       "value": 30
      }
     },
     "4ce0c13563a34f3f9a0bf7c116f987f4": {
      "model_module": "@jupyter-widgets/controls",
      "model_module_version": "2.0.0",
      "model_name": "HTMLStyleModel",
      "state": {
       "description_width": "",
       "font_size": null,
       "text_color": null
      }
     },
     "4ef4aaa1e88f4d0abb5e40c17a8ffe5b": {
      "model_module": "@jupyter-widgets/controls",
      "model_module_version": "2.0.0",
      "model_name": "HTMLStyleModel",
      "state": {
       "description_width": "",
       "font_size": null,
       "text_color": null
      }
     },
     "51101b64b83d4b8ab5d0ef61250aba01": {
      "model_module": "@jupyter-widgets/base",
      "model_module_version": "2.0.0",
      "model_name": "LayoutModel",
      "state": {}
     },
     "5474472e18494c1eb766a821c213d712": {
      "model_module": "@jupyter-widgets/base",
      "model_module_version": "2.0.0",
      "model_name": "LayoutModel",
      "state": {}
     },
     "55c42d187dff444d97c0fc439a097531": {
      "model_module": "@jupyter-widgets/base",
      "model_module_version": "2.0.0",
      "model_name": "LayoutModel",
      "state": {}
     },
     "576c8f44d6be4c70a09d80f25600c76e": {
      "model_module": "@jupyter-widgets/controls",
      "model_module_version": "2.0.0",
      "model_name": "HTMLModel",
      "state": {
       "layout": "IPY_MODEL_964e3d3b577e455883cced43ee54b403",
       "style": "IPY_MODEL_cf286df75cad4856b0d42bd4deeb6aa7",
       "value": "100%"
      }
     },
     "58edcf857728420aadeb3c917cb1efa0": {
      "model_module": "@jupyter-widgets/base",
      "model_module_version": "2.0.0",
      "model_name": "LayoutModel",
      "state": {}
     },
     "593eec5b5e0a44d5b6b968947973c6d1": {
      "model_module": "@jupyter-widgets/controls",
      "model_module_version": "2.0.0",
      "model_name": "FloatProgressModel",
      "state": {
       "bar_style": "success",
       "layout": "IPY_MODEL_58edcf857728420aadeb3c917cb1efa0",
       "max": 3,
       "style": "IPY_MODEL_0dec2fbb27884dc1a5e40c2733776ab3",
       "value": 3
      }
     },
     "597e9ad52b18431a955e0b94b2035dbd": {
      "model_module": "@jupyter-widgets/controls",
      "model_module_version": "2.0.0",
      "model_name": "ProgressStyleModel",
      "state": {
       "description_width": ""
      }
     },
     "598dc18205e14f8a984c4f053df2da02": {
      "model_module": "@jupyter-widgets/controls",
      "model_module_version": "2.0.0",
      "model_name": "ProgressStyleModel",
      "state": {
       "description_width": ""
      }
     },
     "5e7102857a874ef58018363f4a8ac991": {
      "model_module": "@jupyter-widgets/controls",
      "model_module_version": "2.0.0",
      "model_name": "HTMLModel",
      "state": {
       "layout": "IPY_MODEL_6f66acc7d1884674bac648fa71c81e39",
       "style": "IPY_MODEL_afede3fc22294d9aa3299aa872845c31",
       "value": "100%"
      }
     },
     "5e836bad31494918b4d21b8f89f1b2fd": {
      "model_module": "@jupyter-widgets/controls",
      "model_module_version": "2.0.0",
      "model_name": "HTMLModel",
      "state": {
       "layout": "IPY_MODEL_0284d558927543338f0d4b3d57d803e4",
       "style": "IPY_MODEL_4ef4aaa1e88f4d0abb5e40c17a8ffe5b",
       "value": "  0%"
      }
     },
     "5ec069092c294ce4a0f119bf6a11d18f": {
      "model_module": "@jupyter-widgets/controls",
      "model_module_version": "2.0.0",
      "model_name": "HTMLStyleModel",
      "state": {
       "description_width": "",
       "font_size": null,
       "text_color": null
      }
     },
     "5ec5679460304aa8bb35777176b71304": {
      "model_module": "@jupyter-widgets/controls",
      "model_module_version": "2.0.0",
      "model_name": "HBoxModel",
      "state": {
       "children": [
        "IPY_MODEL_aa8edc18f8a54d8d93012cf18a2751df",
        "IPY_MODEL_ff62f821c95c441888df6e18ed47f4af",
        "IPY_MODEL_6f5a1d440772490ea1c4db877a6fe662"
       ],
       "layout": "IPY_MODEL_9c168c6fedbf46859497f0a71169c25e"
      }
     },
     "606e6b65c03540b1b81bd4f33b80a749": {
      "model_module": "@jupyter-widgets/controls",
      "model_module_version": "2.0.0",
      "model_name": "HBoxModel",
      "state": {
       "children": [
        "IPY_MODEL_7f32f108aa5b4fb0a8d548c052bb7452",
        "IPY_MODEL_d148533f5623467c868ef519f46bab19",
        "IPY_MODEL_39e8c2ea192241e98254c1b676cfb61e"
       ],
       "layout": "IPY_MODEL_e6130cc45b4b408398cfa13d7a9debad"
      }
     },
     "6597182f7020453a8362942488ca3c8f": {
      "model_module": "@jupyter-widgets/controls",
      "model_module_version": "2.0.0",
      "model_name": "HTMLModel",
      "state": {
       "layout": "IPY_MODEL_7a3cedf7b2b2403fbd2f19c41d0b8181",
       "style": "IPY_MODEL_dc86f1ec2df64e8ea908bd0be174fb35",
       "value": " 3/3 [00:21&lt;00:00,  5.57s/it]"
      }
     },
     "68e0e50563a149d0ba4f5960bf81b373": {
      "model_module": "@jupyter-widgets/base",
      "model_module_version": "2.0.0",
      "model_name": "LayoutModel",
      "state": {}
     },
     "6b17039af8674bfdbc145ee80944972d": {
      "model_module": "@jupyter-widgets/controls",
      "model_module_version": "2.0.0",
      "model_name": "FloatProgressModel",
      "state": {
       "bar_style": "success",
       "layout": "IPY_MODEL_45f1ccaeee5d45688640ac603d2c10be",
       "max": 30,
       "style": "IPY_MODEL_8a911c6f27b94751b94fd0b901268b99",
       "value": 30
      }
     },
     "6caa9ff3c2ad4677965048bdfb4a312f": {
      "model_module": "@jupyter-widgets/controls",
      "model_module_version": "2.0.0",
      "model_name": "HTMLStyleModel",
      "state": {
       "description_width": "",
       "font_size": null,
       "text_color": null
      }
     },
     "6e65b665dd7d4edeb40824f138fb263e": {
      "model_module": "@jupyter-widgets/base",
      "model_module_version": "2.0.0",
      "model_name": "LayoutModel",
      "state": {}
     },
     "6f5a1d440772490ea1c4db877a6fe662": {
      "model_module": "@jupyter-widgets/controls",
      "model_module_version": "2.0.0",
      "model_name": "HTMLModel",
      "state": {
       "layout": "IPY_MODEL_abdcd7be29614d87a6747cfe209c5391",
       "style": "IPY_MODEL_47c3d27e3cf0444da98b8d2e013ecfcf",
       "value": " 30/30 [00:52&lt;00:00,  1.93s/it]"
      }
     },
     "6f66acc7d1884674bac648fa71c81e39": {
      "model_module": "@jupyter-widgets/base",
      "model_module_version": "2.0.0",
      "model_name": "LayoutModel",
      "state": {}
     },
     "7499afc0d1a04591a91f8105a66fc697": {
      "model_module": "@jupyter-widgets/base",
      "model_module_version": "2.0.0",
      "model_name": "LayoutModel",
      "state": {}
     },
     "74e8af4dad024059962d0e4705f95e9b": {
      "model_module": "@jupyter-widgets/controls",
      "model_module_version": "2.0.0",
      "model_name": "HBoxModel",
      "state": {
       "children": [
        "IPY_MODEL_5e7102857a874ef58018363f4a8ac991",
        "IPY_MODEL_593eec5b5e0a44d5b6b968947973c6d1",
        "IPY_MODEL_37c0472881f3466bb4846789f3cdd18f"
       ],
       "layout": "IPY_MODEL_51101b64b83d4b8ab5d0ef61250aba01"
      }
     },
     "7717ee0534c0485e94a811f4c1150cd5": {
      "model_module": "@jupyter-widgets/controls",
      "model_module_version": "2.0.0",
      "model_name": "HBoxModel",
      "state": {
       "children": [
        "IPY_MODEL_576c8f44d6be4c70a09d80f25600c76e",
        "IPY_MODEL_4c933211060546b2866d678f3b2a3c8f",
        "IPY_MODEL_47851dbfd7f545c2be951d0a18c89f63"
       ],
       "layout": "IPY_MODEL_47e73af3a4d44120a8265b7986e6db02"
      }
     },
     "7906e6738d314996852627b46d44c25f": {
      "model_module": "@jupyter-widgets/controls",
      "model_module_version": "2.0.0",
      "model_name": "HTMLModel",
      "state": {
       "layout": "IPY_MODEL_a408770acbfc40bb8479ec117a1b8de0",
       "style": "IPY_MODEL_34945c09d2384fa198aad0b2bd728d13",
       "value": " 3/3 [00:04&lt;00:00,  1.41s/it]"
      }
     },
     "7a3cedf7b2b2403fbd2f19c41d0b8181": {
      "model_module": "@jupyter-widgets/base",
      "model_module_version": "2.0.0",
      "model_name": "LayoutModel",
      "state": {}
     },
     "7bd6b821294c42fab5e75fc15129acf3": {
      "model_module": "@jupyter-widgets/controls",
      "model_module_version": "2.0.0",
      "model_name": "HTMLModel",
      "state": {
       "layout": "IPY_MODEL_1bd53494d6d64678a9b28e6d3f35f6ef",
       "style": "IPY_MODEL_1c6df1ba49f54630a37aeafa6898de33",
       "value": " 30/30 [00:11&lt;00:00,  2.14it/s]"
      }
     },
     "7d854dc556ce4b5e8924e4a769411c13": {
      "model_module": "@jupyter-widgets/base",
      "model_module_version": "2.0.0",
      "model_name": "LayoutModel",
      "state": {}
     },
     "7f32f108aa5b4fb0a8d548c052bb7452": {
      "model_module": "@jupyter-widgets/controls",
      "model_module_version": "2.0.0",
      "model_name": "HTMLModel",
      "state": {
       "layout": "IPY_MODEL_55c42d187dff444d97c0fc439a097531",
       "style": "IPY_MODEL_5ec069092c294ce4a0f119bf6a11d18f",
       "value": "100%"
      }
     },
     "8102ed1fc0514432bea96a167e585821": {
      "model_module": "@jupyter-widgets/base",
      "model_module_version": "2.0.0",
      "model_name": "LayoutModel",
      "state": {}
     },
     "854196d77ed046c8a17e004361811088": {
      "model_module": "@jupyter-widgets/controls",
      "model_module_version": "2.0.0",
      "model_name": "ProgressStyleModel",
      "state": {
       "description_width": ""
      }
     },
     "8a911c6f27b94751b94fd0b901268b99": {
      "model_module": "@jupyter-widgets/controls",
      "model_module_version": "2.0.0",
      "model_name": "ProgressStyleModel",
      "state": {
       "description_width": ""
      }
     },
     "91952126e5f84fdeadb50e677bcc6c12": {
      "model_module": "@jupyter-widgets/base",
      "model_module_version": "2.0.0",
      "model_name": "LayoutModel",
      "state": {}
     },
     "964e3d3b577e455883cced43ee54b403": {
      "model_module": "@jupyter-widgets/base",
      "model_module_version": "2.0.0",
      "model_name": "LayoutModel",
      "state": {}
     },
     "9942bf5af2b540b392d501e818bf9a6d": {
      "model_module": "@jupyter-widgets/base",
      "model_module_version": "2.0.0",
      "model_name": "LayoutModel",
      "state": {}
     },
     "9aa6ca3b6e254199874ad272eb46fce0": {
      "model_module": "@jupyter-widgets/controls",
      "model_module_version": "2.0.0",
      "model_name": "HTMLStyleModel",
      "state": {
       "description_width": "",
       "font_size": null,
       "text_color": null
      }
     },
     "9c168c6fedbf46859497f0a71169c25e": {
      "model_module": "@jupyter-widgets/base",
      "model_module_version": "2.0.0",
      "model_name": "LayoutModel",
      "state": {}
     },
     "a408770acbfc40bb8479ec117a1b8de0": {
      "model_module": "@jupyter-widgets/base",
      "model_module_version": "2.0.0",
      "model_name": "LayoutModel",
      "state": {}
     },
     "aa8edc18f8a54d8d93012cf18a2751df": {
      "model_module": "@jupyter-widgets/controls",
      "model_module_version": "2.0.0",
      "model_name": "HTMLModel",
      "state": {
       "layout": "IPY_MODEL_68e0e50563a149d0ba4f5960bf81b373",
       "style": "IPY_MODEL_9aa6ca3b6e254199874ad272eb46fce0",
       "value": "100%"
      }
     },
     "abdcd7be29614d87a6747cfe209c5391": {
      "model_module": "@jupyter-widgets/base",
      "model_module_version": "2.0.0",
      "model_name": "LayoutModel",
      "state": {}
     },
     "afede3fc22294d9aa3299aa872845c31": {
      "model_module": "@jupyter-widgets/controls",
      "model_module_version": "2.0.0",
      "model_name": "HTMLStyleModel",
      "state": {
       "description_width": "",
       "font_size": null,
       "text_color": null
      }
     },
     "b0b0d5a7853343b7a37447fe31502e1d": {
      "model_module": "@jupyter-widgets/controls",
      "model_module_version": "2.0.0",
      "model_name": "HTMLModel",
      "state": {
       "layout": "IPY_MODEL_cce2470217414324b33c0f6d65af9e8c",
       "style": "IPY_MODEL_4c221cd32f774c13a3604f3de1aecf1e",
       "value": " 3/3 [00:22&lt;00:00,  6.00s/it]"
      }
     },
     "b79b9ec15e654835b79ed9ed0e271329": {
      "model_module": "@jupyter-widgets/controls",
      "model_module_version": "2.0.0",
      "model_name": "ProgressStyleModel",
      "state": {
       "description_width": ""
      }
     },
     "b9e2c8d8f3db429bb78d963918a03bb2": {
      "model_module": "@jupyter-widgets/controls",
      "model_module_version": "2.0.0",
      "model_name": "HTMLModel",
      "state": {
       "layout": "IPY_MODEL_410f74a16e6745c797c20e07df76d9c9",
       "style": "IPY_MODEL_1ff0c82fb4794c8493c164d02aa9fa9b",
       "value": "  0%"
      }
     },
     "bcbf3012632c4b1e906de60105cf99e4": {
      "model_module": "@jupyter-widgets/base",
      "model_module_version": "2.0.0",
      "model_name": "LayoutModel",
      "state": {}
     },
     "bf0d1ae5ff92450b9f5b6967493339a5": {
      "model_module": "@jupyter-widgets/controls",
      "model_module_version": "2.0.0",
      "model_name": "HTMLStyleModel",
      "state": {
       "description_width": "",
       "font_size": null,
       "text_color": null
      }
     },
     "c6ace625c21149c19069de51e3ad9d23": {
      "model_module": "@jupyter-widgets/controls",
      "model_module_version": "2.0.0",
      "model_name": "HBoxModel",
      "state": {
       "children": [
        "IPY_MODEL_5e836bad31494918b4d21b8f89f1b2fd",
        "IPY_MODEL_dab02b130d1e41d8baf8ed99dcdcb01c",
        "IPY_MODEL_caad27f46a7e44feb77430151a6c5fa3"
       ],
       "layout": "IPY_MODEL_7d854dc556ce4b5e8924e4a769411c13"
      }
     },
     "c81d01c6d5fa4699a153a254d91db5c7": {
      "model_module": "@jupyter-widgets/controls",
      "model_module_version": "2.0.0",
      "model_name": "HTMLStyleModel",
      "state": {
       "description_width": "",
       "font_size": null,
       "text_color": null
      }
     },
     "caad27f46a7e44feb77430151a6c5fa3": {
      "model_module": "@jupyter-widgets/controls",
      "model_module_version": "2.0.0",
      "model_name": "HTMLModel",
      "state": {
       "layout": "IPY_MODEL_153b1096888b43dcb819a11aa07690f5",
       "style": "IPY_MODEL_6caa9ff3c2ad4677965048bdfb4a312f",
       "value": " 0/30 [00:00&lt;?, ?it/s]"
      }
     },
     "cce2470217414324b33c0f6d65af9e8c": {
      "model_module": "@jupyter-widgets/base",
      "model_module_version": "2.0.0",
      "model_name": "LayoutModel",
      "state": {}
     },
     "cf00489c739141bb9ce4b962a8b4ffc1": {
      "model_module": "@jupyter-widgets/controls",
      "model_module_version": "2.0.0",
      "model_name": "HBoxModel",
      "state": {
       "children": [
        "IPY_MODEL_cfccdbb535644ceaa0e18fe79d65f56a",
        "IPY_MODEL_6b17039af8674bfdbc145ee80944972d",
        "IPY_MODEL_7bd6b821294c42fab5e75fc15129acf3"
       ],
       "layout": "IPY_MODEL_258041a51b35403db6ba2a0b193cb67a"
      }
     },
     "cf286df75cad4856b0d42bd4deeb6aa7": {
      "model_module": "@jupyter-widgets/controls",
      "model_module_version": "2.0.0",
      "model_name": "HTMLStyleModel",
      "state": {
       "description_width": "",
       "font_size": null,
       "text_color": null
      }
     },
     "cfccdbb535644ceaa0e18fe79d65f56a": {
      "model_module": "@jupyter-widgets/controls",
      "model_module_version": "2.0.0",
      "model_name": "HTMLModel",
      "state": {
       "layout": "IPY_MODEL_47324f74bfc048a2986f3879c07ba012",
       "style": "IPY_MODEL_c81d01c6d5fa4699a153a254d91db5c7",
       "value": "100%"
      }
     },
     "d148533f5623467c868ef519f46bab19": {
      "model_module": "@jupyter-widgets/controls",
      "model_module_version": "2.0.0",
      "model_name": "FloatProgressModel",
      "state": {
       "bar_style": "success",
       "layout": "IPY_MODEL_fc7bb31024ad4e17a12e84970254ac1c",
       "max": 3,
       "style": "IPY_MODEL_b79b9ec15e654835b79ed9ed0e271329",
       "value": 3
      }
     },
     "d3d5784194214e0a842ed647c098d0be": {
      "model_module": "@jupyter-widgets/controls",
      "model_module_version": "2.0.0",
      "model_name": "HTMLModel",
      "state": {
       "layout": "IPY_MODEL_25c618428de2458c892e418d6dba4111",
       "style": "IPY_MODEL_bf0d1ae5ff92450b9f5b6967493339a5",
       "value": " 0/30 [01:44&lt;?, ?it/s]"
      }
     },
     "d60812b1192b45368bae4fccf1c2e33b": {
      "model_module": "@jupyter-widgets/controls",
      "model_module_version": "2.0.0",
      "model_name": "FloatProgressModel",
      "state": {
       "bar_style": "success",
       "layout": "IPY_MODEL_fbcda4dda0584791ae35326be95a7c11",
       "max": 3,
       "style": "IPY_MODEL_854196d77ed046c8a17e004361811088",
       "value": 3
      }
     },
     "d67662629efe4bb49132879abc72c6e0": {
      "model_module": "@jupyter-widgets/base",
      "model_module_version": "2.0.0",
      "model_name": "LayoutModel",
      "state": {}
     },
     "d89c06aac3aa4c3596d858feaec64777": {
      "model_module": "@jupyter-widgets/base",
      "model_module_version": "2.0.0",
      "model_name": "LayoutModel",
      "state": {}
     },
     "dab02b130d1e41d8baf8ed99dcdcb01c": {
      "model_module": "@jupyter-widgets/controls",
      "model_module_version": "2.0.0",
      "model_name": "FloatProgressModel",
      "state": {
       "layout": "IPY_MODEL_7499afc0d1a04591a91f8105a66fc697",
       "max": 30,
       "style": "IPY_MODEL_4919a22eef724989a15b9a81ffbd1872"
      }
     },
     "dc5d006b29fe43f0ace6edd480cec8e0": {
      "model_module": "@jupyter-widgets/controls",
      "model_module_version": "2.0.0",
      "model_name": "HTMLModel",
      "state": {
       "layout": "IPY_MODEL_9942bf5af2b540b392d501e818bf9a6d",
       "style": "IPY_MODEL_4ce0c13563a34f3f9a0bf7c116f987f4",
       "value": "100%"
      }
     },
     "dc86f1ec2df64e8ea908bd0be174fb35": {
      "model_module": "@jupyter-widgets/controls",
      "model_module_version": "2.0.0",
      "model_name": "HTMLStyleModel",
      "state": {
       "description_width": "",
       "font_size": null,
       "text_color": null
      }
     },
     "e17dc9612e474dd480f15115a162930f": {
      "model_module": "@jupyter-widgets/controls",
      "model_module_version": "2.0.0",
      "model_name": "FloatProgressModel",
      "state": {
       "bar_style": "success",
       "layout": "IPY_MODEL_f29f7847320d4cd5aa855a467e9a84a1",
       "max": 3,
       "style": "IPY_MODEL_02d98a6daa3b4ffeb0b66f31d40b9e51",
       "value": 3
      }
     },
     "e4cd6a4802144ad0a7522174603e8d08": {
      "model_module": "@jupyter-widgets/base",
      "model_module_version": "2.0.0",
      "model_name": "LayoutModel",
      "state": {}
     },
     "e54ad165b83845b58f600904e4851887": {
      "model_module": "@jupyter-widgets/controls",
      "model_module_version": "2.0.0",
      "model_name": "HBoxModel",
      "state": {
       "children": [
        "IPY_MODEL_dc5d006b29fe43f0ace6edd480cec8e0",
        "IPY_MODEL_d60812b1192b45368bae4fccf1c2e33b",
        "IPY_MODEL_7906e6738d314996852627b46d44c25f"
       ],
       "layout": "IPY_MODEL_1842b97cabb44556bd5045a815be0ca8"
      }
     },
     "e6130cc45b4b408398cfa13d7a9debad": {
      "model_module": "@jupyter-widgets/base",
      "model_module_version": "2.0.0",
      "model_name": "LayoutModel",
      "state": {}
     },
     "e8f732a7e5f646f2ae0d9c3a3e97fd9f": {
      "model_module": "@jupyter-widgets/controls",
      "model_module_version": "2.0.0",
      "model_name": "HTMLStyleModel",
      "state": {
       "description_width": "",
       "font_size": null,
       "text_color": null
      }
     },
     "ebb21c2145ec4169ad6aad0a7c51d459": {
      "model_module": "@jupyter-widgets/controls",
      "model_module_version": "2.0.0",
      "model_name": "FloatProgressModel",
      "state": {
       "bar_style": "danger",
       "layout": "IPY_MODEL_2bdb04e9c88c4d95837c2d77840ee028",
       "max": 30,
       "style": "IPY_MODEL_598dc18205e14f8a984c4f053df2da02"
      }
     },
     "f29f7847320d4cd5aa855a467e9a84a1": {
      "model_module": "@jupyter-widgets/base",
      "model_module_version": "2.0.0",
      "model_name": "LayoutModel",
      "state": {}
     },
     "fbcda4dda0584791ae35326be95a7c11": {
      "model_module": "@jupyter-widgets/base",
      "model_module_version": "2.0.0",
      "model_name": "LayoutModel",
      "state": {}
     },
     "fc7bb31024ad4e17a12e84970254ac1c": {
      "model_module": "@jupyter-widgets/base",
      "model_module_version": "2.0.0",
      "model_name": "LayoutModel",
      "state": {}
     },
     "ff62f821c95c441888df6e18ed47f4af": {
      "model_module": "@jupyter-widgets/controls",
      "model_module_version": "2.0.0",
      "model_name": "FloatProgressModel",
      "state": {
       "bar_style": "success",
       "layout": "IPY_MODEL_44fc9bf944254e6a878300b7dce2cccd",
       "max": 30,
       "style": "IPY_MODEL_ff8a841b760e4c20a7d0e57c353c7a34",
       "value": 30
      }
     },
     "ff8a841b760e4c20a7d0e57c353c7a34": {
      "model_module": "@jupyter-widgets/controls",
      "model_module_version": "2.0.0",
      "model_name": "ProgressStyleModel",
      "state": {
       "description_width": ""
      }
     }
    },
    "version_major": 2,
    "version_minor": 0
   }
  }
 },
 "nbformat": 4,
 "nbformat_minor": 5
}
